{
 "cells": [
  {
   "cell_type": "markdown",
   "id": "d33c581f",
   "metadata": {
    "deletable": false,
    "editable": false,
    "nbgrader": {
     "cell_type": "markdown",
     "checksum": "67a55a8b2f6983454834f4084ab271de",
     "grade": false,
     "grade_id": "cell-e48ff25c41929622",
     "locked": true,
     "schema_version": 3,
     "solution": false,
     "task": false
    }
   },
   "source": [
    "# Relación de ejercicios 3\n",
    "\n",
    "### Lee detenidamente las siguientes instrucciones y borra `raise NotImplementedError` en todas las celdas\n",
    "\n",
    "En cada trozo de código debes responder a la pregunta formulada, asegurándote de que el resultado queda guardado en la(s) variable(s) indicadas, que por defecto vienen inicializadas a `None`. Puedes usar variables intermedias siempre que el resultado final del cálculo quede guardado exactamente en la variable que indica el enunciado (debes reemplazar `None` el código necesario, pero nunca cambiar el nombre de las variables ya creadas). \n",
    "\n",
    "Después de cada ejercicio verás varias líneas de código ya hechas. Ejecútalas todas (no modifiques su código) y te dirán si tu solución es correcta o no, sin darte pistas de cómo se resuelve (el código de los tests no guarda relación con el código de la solución). Si la solución es correcta, no se mostrará nada, pero si es incorrecta, verás un error indicando cuál es el test que tu solución no pasa. Además de esas pruebas, se realizarán algunas más (ocultas) a la hora de puntuar el ejercicio, pero si tu código pasa con éxito las líneas que ves, puedes estar bastante seguro de que tu solución es correcta. Asegúrate de que todas las celdas de auto-evaluación indican que tu solución es correcta antes de subir el ejercicio a la plataforma. En caso contrario, no dudes en preguntar las dudas a través del foro -siempre explicando la duda en palabras, sin pegar código fuente-.\n",
    "\n",
    "Una vez finalizada la actividad, guarda tu fichero, ciérralo con File -> Close and Halt, y después vuélvelo a abrir y ejecútalo completo pinchando en Cell -> Run All Cells, y asegúrate de que no se lanza ningún error. De esta manera comprobarás que no has olvidado nada y que es posible ejecutarlo completo desde 0 y sin errores. No se corregirá ningún fichero que tenga errores de sintaxis y no se pueda, como mínimo, ejecutar completamente. No pasa nada si alguna de las comprobaciones lanza errores por ser incorrecta, pero el código de cada ejercicio no puede tener errores de sintaxis y debe al menos poderse ejecutar.\n",
    "\n",
    "RECUERDA SUBIR CADA UNO DE LOS FICHEROS .ipynb TAL CUAL (sueltos), SIN COMPRIMIR Y SIN CAMBIARLES EL NOMBRE. Los ficheros subidos deben tener **exactamente el mismo nombre de fichero que tenían cuando los recibiste**. No subas ningún PDF ni ningún fichero ZIP ni nada similar. La plataforma ya los separa automáticamente en carpetas que traen el nombre y apellidos del alumno, por lo que NO es necesario que lo pongas en ninguna parte.\n",
    "\n",
    "### Las funciones NUNCA deben hacer print() ni mostrar nada por pantalla, sino devolver el resultado del cálculo utilizando return. Recuerda que imprimir por pantalla no es devolver un resultado."
   ]
  },
  {
   "cell_type": "markdown",
   "id": "ac0850aa",
   "metadata": {
    "deletable": false,
    "editable": false,
    "nbgrader": {
     "cell_type": "markdown",
     "checksum": "352e8774a2be4f16b48139785ece5b91",
     "grade": false,
     "grade_id": "ej1a-enunciado",
     "locked": true,
     "schema_version": 3,
     "solution": false,
     "task": false
    }
   },
   "source": [
    "### **Ejercicio 1 (total: 5 puntos)**\n",
    "\n",
    "Trabajaremos con el dataset de la sección 6.1 de municipios de España. Puedes encontrar en el esqueleto del primer ejercicio a continuación las sentencias `import` necesarias y el código para leerlo (no debes modificar nada de dicho código).\n",
    "\n",
    "Para el _geodataframe_ dado, se pide:\n",
    "    \n",
    "a) **(2 puntos)** Se pide:\n",
    "* Realizar un cambio de coordenadas a metros proyectado para WGS84 UTM30N y guardar el nuevo _geodataframe_ en la variable _df_30n_.\n",
    "* Agrupar (_union_) las secciones censales de cada Comunidad Autónoma, _Cod_CCAA_, y calcular su área en una nueva columna, _area_. Todo ello, en un nuevo _geodataframe_ denominado _df_ccaa_ que *solo* tenga las columnas _Cod_CCAA_, _area_ y _geometry_ (se recomienda investigar la función _dissolve_ de _geopandas_)."
   ]
  },
  {
   "cell_type": "code",
   "execution_count": 34,
   "outputs": [
    {
     "ename": "NotImplementedError",
     "evalue": "",
     "output_type": "error",
     "traceback": [
      "\u001B[0;31m---------------------------------------------------------------------------\u001B[0m",
      "\u001B[0;31mNotImplementedError\u001B[0m                       Traceback (most recent call last)",
      "Cell \u001B[0;32mIn[34], line 28\u001B[0m\n\u001B[1;32m     26\u001B[0m df_ccaa[\u001B[38;5;124m\"\u001B[39m\u001B[38;5;124marea\u001B[39m\u001B[38;5;124m\"\u001B[39m] \u001B[38;5;241m=\u001B[39m df_ccaa\u001B[38;5;241m.\u001B[39mgeometry\u001B[38;5;241m.\u001B[39marea \u001B[38;5;66;03m# cálculo del área de cada polígono\u001B[39;00m\n\u001B[1;32m     27\u001B[0m df_ccaa \u001B[38;5;241m=\u001B[39m df_ccaa[[\u001B[38;5;124m\"\u001B[39m\u001B[38;5;124marea\u001B[39m\u001B[38;5;124m\"\u001B[39m, \u001B[38;5;124m\"\u001B[39m\u001B[38;5;124mCod_CCAA\u001B[39m\u001B[38;5;124m\"\u001B[39m, \u001B[38;5;124m\"\u001B[39m\u001B[38;5;124mgeometry\u001B[39m\u001B[38;5;124m\"\u001B[39m]] \u001B[38;5;66;03m# selección de columnas\u001B[39;00m\n\u001B[0;32m---> 28\u001B[0m \u001B[38;5;28;01mraise\u001B[39;00m \u001B[38;5;167;01mNotImplementedError\u001B[39;00m()\n",
      "\u001B[0;31mNotImplementedError\u001B[0m: "
     ]
    }
   ],
   "source": [
    "import pandas as pd \n",
    "import numpy as np  \n",
    "import geopandas as gpd \n",
    "import matplotlib.pyplot as plt \n",
    "import seaborn as sns\n",
    "import warnings\n",
    "\n",
    "sns.set_style('darkgrid')\n",
    "warnings.filterwarnings('ignore')\n",
    "\n",
    "data_location = \"/Users/luiscarrillo/OneDrive/Desktop/GitHub/DataScience/Python/Data/88b20013-9bf2-49a1-aca5-fa050c6af11e2020330-1-1pthzga.ys1i.shp\"    \n",
    "\n",
    "# Cambia None por la ruta donde tengas el fichero .shp de municipios de España\n",
    "# Descomenta el siguiente código cuando hayas puesto la ruta de tu fichero\n",
    "    \n",
    "# YOUR CODE HERE\n",
    "df_sscc = gpd.read_file(data_location)\n",
    "df_sscc = df_sscc[['Cod_CCAA','PAD_2C02','geometry']]\n",
    "df_sscc = df_sscc.rename({'PAD_2C02':'tot_pop'}, axis='columns')\n",
    "\n",
    "df_sscc.crs = \"EPSG:4326\" # sistema WGS84\n",
    "dst_crs = \"EPSG:32630\" # sistema WGS84 UTM30N\n",
    "df_30n = df_sscc.to_crs(dst_crs) # transformación de coordenadas             \n",
    "\n",
    "df_ccaa = df_30n.dissolve(by=\"Cod_CCAA\", aggfunc=\"sum\", as_index=False) # agrupación y agregación de datos\n",
    "df_ccaa[\"area\"] = df_ccaa.geometry.area # cálculo del área de cada polígono\n",
    "df_ccaa = df_ccaa[[\"area\", \"Cod_CCAA\", \"geometry\"]] # selección de columnas\n",
    "raise NotImplementedError()"
   ],
   "metadata": {
    "collapsed": false,
    "ExecuteTime": {
     "end_time": "2023-11-15T23:08:44.175303Z",
     "start_time": "2023-11-15T23:07:58.418318Z"
    }
   },
   "id": "40dcc94492258b3b"
  },
  {
   "cell_type": "code",
   "execution_count": 35,
   "id": "e22eeb0c",
   "metadata": {
    "deletable": false,
    "editable": false,
    "nbgrader": {
     "cell_type": "code",
     "checksum": "b324cce2f1cc96d3bff9d4a18a81044f",
     "grade": true,
     "grade_id": "ej1a-test",
     "locked": true,
     "points": 2,
     "schema_version": 3,
     "solution": false,
     "task": false
    },
    "ExecuteTime": {
     "end_time": "2023-11-15T23:10:09.897683Z",
     "start_time": "2023-11-15T23:10:09.890211Z"
    }
   },
   "outputs": [],
   "source": [
    "assert (df_ccaa.area[0] > 85000000000) & (df_ccaa.area[0] < 90000000000)\n",
    "assert (len(df_ccaa) == 19)"
   ]
  },
  {
   "cell_type": "markdown",
   "id": "8c25682f",
   "metadata": {
    "deletable": false,
    "editable": false,
    "nbgrader": {
     "cell_type": "markdown",
     "checksum": "5c9bcb04c2f8dbb39140c0bb50001e09",
     "grade": false,
     "grade_id": "ej1b-enunciado",
     "locked": true,
     "schema_version": 3,
     "solution": false,
     "task": false
    }
   },
   "source": [
    "b) **(1 punto)** Calcular la densidad de población de cada Comunidad Autónoma y almacenarlo en una nueva columna de `df_ccaa` llamada _densidad_ (habs/km2) sobre _df_ccaa_ (se recomienda utilizar un _pandas.merge_ junto con _df_30n_)."
   ]
  },
  {
   "cell_type": "code",
   "execution_count": 36,
   "id": "f90fb489",
   "metadata": {
    "deletable": false,
    "nbgrader": {
     "cell_type": "code",
     "checksum": "6f0ec6e5e7ccc914234c5342ddd072c9",
     "grade": false,
     "grade_id": "ej1b-solucion",
     "locked": false,
     "schema_version": 3,
     "solution": true,
     "task": false
    },
    "ExecuteTime": {
     "end_time": "2023-11-15T23:10:13.287762Z",
     "start_time": "2023-11-15T23:10:13.263983Z"
    }
   },
   "outputs": [
    {
     "name": "stdout",
     "output_type": "stream",
     "text": [
      "[95.65553162]\n",
      "46572132.0\n",
      "47000000\n"
     ]
    },
    {
     "ename": "NotImplementedError",
     "evalue": "",
     "output_type": "error",
     "traceback": [
      "\u001B[0;31m---------------------------------------------------------------------------\u001B[0m",
      "\u001B[0;31mNotImplementedError\u001B[0m                       Traceback (most recent call last)",
      "Cell \u001B[0;32mIn[36], line 11\u001B[0m\n\u001B[1;32m      9\u001B[0m \u001B[38;5;28mprint\u001B[39m(df_ccaa\u001B[38;5;241m.\u001B[39mtot_pop\u001B[38;5;241m.\u001B[39msum())\n\u001B[1;32m     10\u001B[0m \u001B[38;5;28mprint\u001B[39m(\u001B[38;5;241m47\u001B[39m\u001B[38;5;241m*\u001B[39m\u001B[38;5;241m10\u001B[39m\u001B[38;5;241m*\u001B[39m\u001B[38;5;241m*\u001B[39m\u001B[38;5;241m6\u001B[39m)\n\u001B[0;32m---> 11\u001B[0m \u001B[38;5;28;01mraise\u001B[39;00m \u001B[38;5;167;01mNotImplementedError\u001B[39;00m()\n",
      "\u001B[0;31mNotImplementedError\u001B[0m: "
     ]
    }
   ],
   "source": [
    "# YOUR CODE HERE\n",
    "\n",
    "df_pop = df_30n.groupby(\"Cod_CCAA\")[\"tot_pop\"].sum().reset_index()\n",
    "\n",
    "df_ccaa = pd.merge(df_ccaa, df_pop, on=\"Cod_CCAA\")\n",
    "\n",
    "df_ccaa[\"densidad\"] = df_ccaa[\"tot_pop\"] / (df_ccaa[\"area\"] / 1e6) # convertir el área de m2 a km2\n",
    "\n",
    "raise NotImplementedError()"
   ]
  },
  {
   "cell_type": "code",
   "execution_count": 37,
   "id": "0b6346ca",
   "metadata": {
    "deletable": false,
    "editable": false,
    "nbgrader": {
     "cell_type": "code",
     "checksum": "06434945fc8c96e6dd96ccf29bc87bf3",
     "grade": true,
     "grade_id": "ej1b-test",
     "locked": true,
     "points": 1,
     "schema_version": 3,
     "solution": false,
     "task": false
    },
    "ExecuteTime": {
     "end_time": "2023-11-15T23:10:59.131307Z",
     "start_time": "2023-11-15T23:10:59.125098Z"
    }
   },
   "outputs": [],
   "source": [
    "assert(df_ccaa[df_ccaa.Cod_CCAA=='01'].densidad.values > 95 and df_ccaa[df_ccaa.Cod_CCAA=='01'].densidad.values < 96)\n",
    "assert(df_ccaa.tot_pop.sum() > 46*10**6 and df_ccaa.tot_pop.sum() < 47*10**6)"
   ]
  },
  {
   "cell_type": "markdown",
   "id": "2ebbfcd8",
   "metadata": {
    "deletable": false,
    "editable": false,
    "nbgrader": {
     "cell_type": "markdown",
     "checksum": "46396b48244cdf46f358d4033b8f0701",
     "grade": false,
     "grade_id": "ej1c-enunciado",
     "locked": true,
     "schema_version": 3,
     "solution": false,
     "task": false
    }
   },
   "source": [
    "c) **(1 punto)** Crear un nuevo geodataframe llamado _df_centr_30n_ donde la geometría sea la del centroide de cada provincia. Además, debe tener la columna _densidad_ con la densidad de cada Comunidad Autónoma."
   ]
  },
  {
   "cell_type": "code",
   "execution_count": 40,
   "id": "dc88599c",
   "metadata": {
    "deletable": false,
    "nbgrader": {
     "cell_type": "code",
     "checksum": "29b8cd7e6127ddbd670287e0e228b38f",
     "grade": false,
     "grade_id": "ej1c-solucion",
     "locked": false,
     "schema_version": 3,
     "solution": true,
     "task": false
    },
    "ExecuteTime": {
     "end_time": "2023-11-15T23:15:06.545639Z",
     "start_time": "2023-11-15T23:15:06.515851Z"
    }
   },
   "outputs": [
    {
     "ename": "NotImplementedError",
     "evalue": "",
     "output_type": "error",
     "traceback": [
      "\u001B[0;31m---------------------------------------------------------------------------\u001B[0m",
      "\u001B[0;31mNotImplementedError\u001B[0m                       Traceback (most recent call last)",
      "Cell \u001B[0;32mIn[40], line 8\u001B[0m\n\u001B[1;32m      6\u001B[0m df_centr_30n[\u001B[38;5;124m'\u001B[39m\u001B[38;5;124mgeometry\u001B[39m\u001B[38;5;124m'\u001B[39m] \u001B[38;5;241m=\u001B[39m df_ccaa[\u001B[38;5;124m'\u001B[39m\u001B[38;5;124mgeometry\u001B[39m\u001B[38;5;124m'\u001B[39m]\u001B[38;5;241m.\u001B[39mcentroid\n\u001B[1;32m      7\u001B[0m df_centr_30n[\u001B[38;5;124m'\u001B[39m\u001B[38;5;124mdensidad\u001B[39m\u001B[38;5;124m'\u001B[39m] \u001B[38;5;241m=\u001B[39m df_ccaa[\u001B[38;5;124m'\u001B[39m\u001B[38;5;124mdensidad\u001B[39m\u001B[38;5;124m'\u001B[39m]\n\u001B[0;32m----> 8\u001B[0m \u001B[38;5;28;01mraise\u001B[39;00m \u001B[38;5;167;01mNotImplementedError\u001B[39;00m()\n",
      "\u001B[0;31mNotImplementedError\u001B[0m: "
     ]
    }
   ],
   "source": [
    "df_centr_30n = None      # Reemplaza esta línae por las líneas de código adecuadas\n",
    "\n",
    "# YOUR CODE HERE\n",
    "\n",
    "df_centr_30n = df_ccaa.copy()\n",
    "df_centr_30n['geometry'] = df_ccaa['geometry'].centroid\n",
    "df_centr_30n['densidad'] = df_ccaa['densidad']\n",
    "raise NotImplementedError()"
   ]
  },
  {
   "cell_type": "code",
   "execution_count": 41,
   "id": "0b68fe1b",
   "metadata": {
    "deletable": false,
    "editable": false,
    "nbgrader": {
     "cell_type": "code",
     "checksum": "68e1198e8cc9b603370acb2d2b2af245",
     "grade": true,
     "grade_id": "ej1c-test",
     "locked": true,
     "points": 1,
     "schema_version": 3,
     "solution": false,
     "task": false
    },
    "ExecuteTime": {
     "end_time": "2023-11-15T23:15:07.591699Z",
     "start_time": "2023-11-15T23:15:07.588706Z"
    }
   },
   "outputs": [],
   "source": [
    "assert(round(df_centr_30n[\"geometry\"].x.mean(), 2) == 436692.89 and\n",
    "       round(df_centr_30n[\"geometry\"].y.mean(), 2) == 4408453.62)"
   ]
  },
  {
   "cell_type": "markdown",
   "id": "7a142ab3",
   "metadata": {
    "deletable": false,
    "editable": false,
    "nbgrader": {
     "cell_type": "markdown",
     "checksum": "8a54f271f93c3f5706866eb44ab3424a",
     "grade": false,
     "grade_id": "ej1d-enunciado",
     "locked": true,
     "schema_version": 3,
     "solution": false,
     "task": false
    }
   },
   "source": [
    "d) **(1 punto)** Crear un _geodataframe_ llamado _df_centr_filt_30n_ con los 10 centroides de mayor densidad del _geodataframe_ anterior."
   ]
  },
  {
   "cell_type": "code",
   "execution_count": 43,
   "id": "75a895ee",
   "metadata": {
    "deletable": false,
    "nbgrader": {
     "cell_type": "code",
     "checksum": "6438aa756a14a5fe8780f87296a16c7e",
     "grade": false,
     "grade_id": "ej1d-solucion",
     "locked": false,
     "schema_version": 3,
     "solution": true,
     "task": false
    },
    "ExecuteTime": {
     "end_time": "2023-11-15T23:16:06.258286Z",
     "start_time": "2023-11-15T23:16:06.256723Z"
    }
   },
   "outputs": [
    {
     "ename": "NotImplementedError",
     "evalue": "",
     "output_type": "error",
     "traceback": [
      "\u001B[0;31m---------------------------------------------------------------------------\u001B[0m",
      "\u001B[0;31mNotImplementedError\u001B[0m                       Traceback (most recent call last)",
      "Cell \u001B[0;32mIn[43], line 5\u001B[0m\n\u001B[1;32m      3\u001B[0m \u001B[38;5;66;03m# YOUR CODE HERE\u001B[39;00m\n\u001B[1;32m      4\u001B[0m df_centr_filt_30n \u001B[38;5;241m=\u001B[39m df_centr_30n\u001B[38;5;241m.\u001B[39msort_values(by\u001B[38;5;241m=\u001B[39m\u001B[38;5;124m'\u001B[39m\u001B[38;5;124mdensidad\u001B[39m\u001B[38;5;124m'\u001B[39m, ascending\u001B[38;5;241m=\u001B[39m\u001B[38;5;28;01mFalse\u001B[39;00m)\u001B[38;5;241m.\u001B[39mhead(\u001B[38;5;241m10\u001B[39m)\n\u001B[0;32m----> 5\u001B[0m \u001B[38;5;28;01mraise\u001B[39;00m \u001B[38;5;167;01mNotImplementedError\u001B[39;00m()\n",
      "\u001B[0;31mNotImplementedError\u001B[0m: "
     ]
    }
   ],
   "source": [
    "df_centr_filt_30n = None\n",
    "\n",
    "# YOUR CODE HERE\n",
    "df_centr_filt_30n = df_centr_30n.sort_values(by='densidad', ascending=False).head(10)\n",
    "raise NotImplementedError()"
   ]
  },
  {
   "cell_type": "code",
   "execution_count": 44,
   "id": "c0eff776",
   "metadata": {
    "deletable": false,
    "editable": false,
    "nbgrader": {
     "cell_type": "code",
     "checksum": "2792d78fbcb4efcb8ccadd91e0086b10",
     "grade": true,
     "grade_id": "ej1d-test",
     "locked": true,
     "points": 1,
     "schema_version": 3,
     "solution": false,
     "task": false
    },
    "ExecuteTime": {
     "end_time": "2023-11-15T23:16:08.319840Z",
     "start_time": "2023-11-15T23:16:08.317051Z"
    }
   },
   "outputs": [],
   "source": [
    "assert (df_centr_filt_30n[df_centr_filt_30n.Cod_CCAA=='19'].geometry.x.values > 504482 and\n",
    "        df_centr_filt_30n[df_centr_filt_30n.Cod_CCAA=='19'].geometry.x.values < 504483)\n",
    "assert (df_centr_filt_30n.densidad.sum() > 13207) & (df_centr_filt_30n.densidad.sum() < 13208)"
   ]
  },
  {
   "cell_type": "markdown",
   "id": "06ba487c",
   "metadata": {
    "deletable": false,
    "editable": false,
    "nbgrader": {
     "cell_type": "markdown",
     "checksum": "2d696f6b24bdf36c82df3849c36cd2cb",
     "grade": false,
     "grade_id": "ej2-enunciado",
     "locked": true,
     "schema_version": 3,
     "solution": false,
     "task": false
    }
   },
   "source": [
    "### **Ejercicio 2 (total: 5 puntos)**\n",
    "\n",
    "Cargar el dataset `mpg` con `sns.load_dataset(\"mpg\")` y guardarlo en la variable `mpg_df`. El significado de las columnas es el siguiente:\n",
    "\n",
    "- mpg: miles per (US) gallon. millas recorridas en un galon de gasolina. Mayor mpg implica menor consumo\n",
    "- cylinders: número de cilindros\n",
    "- displacement: desplazamiento (pulgadas cúbicas de cilindro)\n",
    "- horsepower: Horsepower (medida de potencia)\n",
    "- weight: Peso (en miles de libras)\n",
    "- acceleration: tiempo requerido para recorrer 1/4 de milla\n",
    "- model_year: año de fabricación\n",
    "- origin: país de fabricación\n",
    "- name: nombre del modelo\n",
    "\n",
    "Se pide crear los siguientes gráficos a partir de él:\n",
    "\n",
    "(a) **(1.25 puntos)** Un gráfico que muestre un conjunto de diagramas de caja y bigotes *apilados por origin* (es decir, grupos de 3 diagramas de cajas -boxplots- juntos), y facetados en varios sub-gráficos independientes (uno en cada fila) en base al número de cilindros, dispuestos en tantas filas como cilindros distintos existen. Cada gráfico mostrará en el eje Y la variable de millas recorridas por galón, y en el eje X el año de fabricación. Por tanto, en *cada gráfico* habrá *tantos grupos (de 3 cajas cada uno) como años de fabricación existen*. El gráfico devuelto por la función debe almacenarse en la variable `boxplots_facetados_filas`.\n",
    "\n",
    "PISTA: utiliza `catplot` con argumento `row`. Si además incluyes `aspect = 3` para que los gráficos sean el triple de anchos que de altos, lo verás mejor."
   ]
  },
  {
   "cell_type": "code",
   "execution_count": null,
   "id": "183564a2",
   "metadata": {
    "deletable": false,
    "nbgrader": {
     "cell_type": "code",
     "checksum": "098515021f9841c40341e53ff021a437",
     "grade": false,
     "grade_id": "ej2a-solucion",
     "locked": false,
     "schema_version": 3,
     "solution": true,
     "task": false
    }
   },
   "outputs": [],
   "source": [
    "# Ponemos matplotlib inline para asegurarnos de que los gráficos se muestren en el notebook\n",
    "\n",
    "import seaborn as sns\n",
    "%matplotlib inline\n",
    "\n",
    "mpg_df = None\n",
    "boxplots_facetados_filas = None\n",
    "\n",
    "# YOUR CODE HERE\n",
    "raise NotImplementedError()"
   ]
  },
  {
   "cell_type": "code",
   "execution_count": null,
   "id": "25a7cc69",
   "metadata": {
    "deletable": false,
    "editable": false,
    "nbgrader": {
     "cell_type": "code",
     "checksum": "245e0696ee43cc932200f4f0b00a7bfa",
     "grade": true,
     "grade_id": "ej2a-test",
     "locked": true,
     "points": 1.25,
     "schema_version": 3,
     "solution": false,
     "task": false
    }
   },
   "outputs": [],
   "source": [
    "import seaborn as sns\n",
    "assert(isinstance(boxplots_facetados_filas, sns.axisgrid.FacetGrid))\n",
    "assert(boxplots_facetados_filas.row_names == [3, 4, 5, 6, 8])\n",
    "assert(boxplots_facetados_filas.axes_dict[3].get_title() == \"cylinders = 3\" and\n",
    "       boxplots_facetados_filas.axes_dict[3].get_ylabel() == \"mpg\")\n",
    "assert(boxplots_facetados_filas.axes_dict[8].get_title() == \"cylinders = 8\" and\n",
    "       boxplots_facetados_filas.axes_dict[8].get_xlabel() == \"model_year\")"
   ]
  },
  {
   "cell_type": "markdown",
   "id": "a9213941",
   "metadata": {
    "deletable": false,
    "editable": false,
    "nbgrader": {
     "cell_type": "markdown",
     "checksum": "a5fb76a877643bef4784f1d9d9c1af86",
     "grade": false,
     "grade_id": "ej2b-enunciado",
     "locked": true,
     "schema_version": 3,
     "solution": false,
     "task": false
    }
   },
   "source": [
    "(b) **(1.25 puntos)** Un histograma de la variable mpg, desagregada por colores por país de fabricación (en realidad serán 3 histogramas superpuestos en las mismas barras, donde cada histograma tendrá un color de barras). Guardar el resultado en la variable `hist_mpg_pais`.\n",
    "* PISTA: utiliza `displot` con el argumento `multiple = \"stack\"` y usando como argumento `hue` el país de fabricación"
   ]
  },
  {
   "cell_type": "code",
   "execution_count": null,
   "id": "7cb606a7",
   "metadata": {
    "deletable": false,
    "nbgrader": {
     "cell_type": "code",
     "checksum": "302b641531d234691197b88acf2f86c6",
     "grade": false,
     "grade_id": "ej2b-solucion",
     "locked": false,
     "schema_version": 3,
     "solution": true,
     "task": false
    }
   },
   "outputs": [],
   "source": [
    "hist_mpg_pais = None\n",
    "\n",
    "# YOUR CODE HERE\n",
    "raise NotImplementedError()"
   ]
  },
  {
   "cell_type": "code",
   "execution_count": null,
   "id": "8b8c8259",
   "metadata": {
    "deletable": false,
    "editable": false,
    "nbgrader": {
     "cell_type": "code",
     "checksum": "ffe0ff7a8a971013ce61e7ce67df2f15",
     "grade": true,
     "grade_id": "ej2b-test",
     "locked": true,
     "points": 1.25,
     "schema_version": 3,
     "solution": false,
     "task": false
    }
   },
   "outputs": [],
   "source": [
    "assert(hist_mpg_pais.ax.get_xlabel() == \"mpg\")"
   ]
  },
  {
   "cell_type": "markdown",
   "id": "5d76cbba",
   "metadata": {
    "deletable": false,
    "editable": false,
    "nbgrader": {
     "cell_type": "markdown",
     "checksum": "d223f76a98888c8db2ef477a539424ab",
     "grade": false,
     "grade_id": "ej2c-enunciado",
     "locked": true,
     "schema_version": 3,
     "solution": false,
     "task": false
    }
   },
   "source": [
    "(c) **(2.5 puntos)** Dibujar un gráfico de dispersión (scatterplot) de las variables `mpg` (eje X) y `horsepower` (eje Y) mostrando los puntos de cada país con un color distinto, además de los histogramas en los dos ejes. Guardar el resultado en la variable `scatter_conjunto`."
   ]
  },
  {
   "cell_type": "code",
   "execution_count": null,
   "id": "7a65be07",
   "metadata": {
    "deletable": false,
    "nbgrader": {
     "cell_type": "code",
     "checksum": "3657fc4aa5722bef84c892c0aab18796",
     "grade": false,
     "grade_id": "ej2c-solucion",
     "locked": false,
     "schema_version": 3,
     "solution": true,
     "task": false
    }
   },
   "outputs": [],
   "source": [
    "scatter_conjunto = None\n",
    "\n",
    "# YOUR CODE HERE\n",
    "raise NotImplementedError()"
   ]
  },
  {
   "cell_type": "code",
   "execution_count": null,
   "id": "9f94a92c",
   "metadata": {
    "deletable": false,
    "editable": false,
    "nbgrader": {
     "cell_type": "code",
     "checksum": "49001d485fc1f96e25bee980b7b6ffef",
     "grade": true,
     "grade_id": "cell-3320402d97c664fb",
     "locked": true,
     "points": 2.5,
     "schema_version": 3,
     "solution": false,
     "task": false
    }
   },
   "outputs": [],
   "source": [
    "assert(scatter_conjunto.hue.name == \"origin\" and \n",
    "       scatter_conjunto.x.name == \"mpg\" and\n",
    "       scatter_conjunto.y.name == \"horsepower\")"
   ]
  }
 ],
 "metadata": {
  "kernelspec": {
   "display_name": "Python 3 (ipykernel)",
   "language": "python",
   "name": "python3"
  },
  "language_info": {
   "codemirror_mode": {
    "name": "ipython",
    "version": 3
   },
   "file_extension": ".py",
   "mimetype": "text/x-python",
   "name": "python",
   "nbconvert_exporter": "python",
   "pygments_lexer": "ipython3",
   "version": "3.11.5"
  }
 },
 "nbformat": 4,
 "nbformat_minor": 5
}
