{
 "cells": [
  {
   "cell_type": "markdown",
   "metadata": {
    "application/vnd.databricks.v1+cell": {
     "cellMetadata": {},
     "inputWidgets": {},
     "nuid": "31de9a7c-958c-4399-9285-33cd32282d01",
     "showTitle": false,
     "title": ""
    }
   },
   "source": [
    "# Operaciones básicas con DataFrames"
   ]
  },
  {
   "cell_type": "markdown",
   "metadata": {
    "application/vnd.databricks.v1+cell": {
     "cellMetadata": {},
     "inputWidgets": {},
     "nuid": "498d35e9-0aab-4782-bfc2-51331254f19c",
     "showTitle": false,
     "title": ""
    }
   },
   "source": [
    "## Descripción de las variables"
   ]
  },
  {
   "cell_type": "markdown",
   "metadata": {
    "application/vnd.databricks.v1+cell": {
     "cellMetadata": {},
     "inputWidgets": {},
     "nuid": "57f246d2-2299-413e-8ee2-faf252ef6459",
     "showTitle": false,
     "title": ""
    }
   },
   "source": [
    "El dataset, obtenido de <a target = \"_blank\" href=\"https://www.transtats.bts.gov/DL_SelectFields.aspx?gnoyr_VQ=FGJ&QO_fu146_anzr=b0-gvzr\">este link</a> está compuesto por las siguientes variables referidas siempre al año 2018:\n",
    "\n",
    "1. **Month** 1-4\n",
    "2. **DayofMonth** 1-31\n",
    "3. **DayOfWeek** 1 (Monday) - 7 (Sunday)\n",
    "4. **FlightDate** fecha del vuelo\n",
    "5. **Origin** código IATA del aeropuerto de origen\n",
    "6. **OriginCity** ciudad donde está el aeropuerto de origen\n",
    "7. **Dest** código IATA del aeropuerto de destino\n",
    "8. **DestCity** ciudad donde está el aeropuerto de destino  \n",
    "9. **DepTime** hora real de salida (local, hhmm)\n",
    "10. **DepDelay** retraso a la salida, en minutos\n",
    "11. **ArrTime** hora real de llegada (local, hhmm)\n",
    "12. **ArrDelay** retraso a la llegada, en minutos: se considera que un vuelo ha llegado \"on time\" si aterrizó menos de 15 minutos más tarde de la hora prevista en el Computerized Reservations Systems (CRS).\n",
    "13. **Cancelled** si el vuelo fue cancelado (1 = sí, 0 = no)\n",
    "14. **CancellationCode** razón de cancelación (A = aparato, B = tiempo atmosférico, C = NAS, D = seguridad)\n",
    "15. **Diverted** si el vuelo ha sido desviado (1 = sí, 0 = no)\n",
    "16. **ActualElapsedTime** tiempo real invertido en el vuelo\n",
    "17. **AirTime** en minutos\n",
    "18. **Distance** en millas\n",
    "19. **CarrierDelay** en minutos: El retraso del transportista está bajo el control del transportista aéreo. Ejemplos de sucesos que pueden determinar el retraso del transportista son: limpieza de la aeronave, daño de la aeronave, espera de la llegada de los pasajeros o la tripulación de conexión, equipaje, impacto de un pájaro, carga de equipaje, servicio de comidas, computadora, equipo del transportista, problemas legales de la tripulación (descanso del piloto o acompañante) , daños por mercancías peligrosas, inspección de ingeniería, abastecimiento de combustible, pasajeros discapacitados, tripulación retrasada, servicio de inodoros, mantenimiento, ventas excesivas, servicio de agua potable, denegación de viaje a pasajeros en mal estado, proceso de embarque muy lento, equipaje de mano no válido, retrasos de peso y equilibrio.\n",
    "20. **WeatherDelay** en minutos: causado por condiciones atmosféricas extremas o peligrosas, previstas o que se han manifestado antes del despegue, durante el viaje, o a la llegada.\n",
    "21. **NASDelay** en minutos: retraso causado por el National Airspace System (NAS) por motivos como condiciones meteorológicas (perjudiciales pero no extremas), operaciones del aeropuerto, mucho tráfico aéreo, problemas con los controladores aéreos, etc.\n",
    "22. **SecurityDelay** en minutos: causado por la evacuación de una terminal, re-embarque de un avión debido a brechas en la seguridad, fallos en dispositivos del control de seguridad, colas demasiado largas en el control de seguridad, etc.\n",
    "23. **LateAircraftDelay** en minutos: debido al propio retraso del avión al llegar, problemas para conseguir aterrizar en un aeropuerto a una hora más tardía de la que estaba prevista."
   ]
  },
  {
   "cell_type": "markdown",
   "metadata": {
    "application/vnd.databricks.v1+cell": {
     "cellMetadata": {},
     "inputWidgets": {},
     "nuid": "b79df9eb-2c8c-4258-b85b-426f95aa561e",
     "showTitle": false,
     "title": ""
    }
   },
   "source": [
    "Leemos el fichero CSV utilizando el delimitador por defecto de Spark (\",\"). La primera línea contiene encabezados (nombres de columnas) por lo que no es parte de los datos y debemos indicarlo con la opción header."
   ]
  },
  {
   "cell_type": "code",
   "execution_count": 0,
   "metadata": {
    "application/vnd.databricks.v1+cell": {
     "cellMetadata": {
      "byteLimit": 2048000,
      "rowLimit": 10000
     },
     "inputWidgets": {},
     "nuid": "ffbfe23f-d11b-4d2f-b2ae-e01f2fab989f",
     "showTitle": false,
     "title": ""
    }
   },
   "outputs": [],
   "source": [
    "# Esto no hace nada: la lectura es lazy así que no se lee en realidad hasta que ejecutemos una acción sobre flightsDF\n",
    "# Solamente se comprueba que exista el fichero en esa ruta, y se leen los nombres de columnas\n",
    "flightsDF = spark.read.option(\"header\", \"true\")\\\n",
    "                 .csv(\"abfss://datos@cursosparkucm.dfs.core.windows.net/flights-jan-apr-2018.csv\")"
   ]
  },
  {
   "cell_type": "code",
   "execution_count": 0,
   "metadata": {
    "application/vnd.databricks.v1+cell": {
     "cellMetadata": {
      "byteLimit": 2048000,
      "rowLimit": 10000
     },
     "inputWidgets": {},
     "nuid": "db06a960-1873-446a-a6c9-a47affb26fba",
     "showTitle": false,
     "title": ""
    }
   },
   "outputs": [
    {
     "output_type": "stream",
     "name": "stdout",
     "output_type": "stream",
     "text": [
      "root\n |-- Month: string (nullable = true)\n |-- DayofMonth: string (nullable = true)\n |-- DayOfWeek: string (nullable = true)\n |-- FlightDate: string (nullable = true)\n |-- Origin: string (nullable = true)\n |-- OriginCity: string (nullable = true)\n |-- Dest: string (nullable = true)\n |-- DestCity: string (nullable = true)\n |-- DepTime: string (nullable = true)\n |-- DepDelay: string (nullable = true)\n |-- ArrTime: string (nullable = true)\n |-- ArrDelay: string (nullable = true)\n |-- Cancelled: string (nullable = true)\n |-- CancellationCode: string (nullable = true)\n |-- Diverted: string (nullable = true)\n |-- ActualElapsedTime: string (nullable = true)\n |-- AirTime: string (nullable = true)\n |-- Distance: string (nullable = true)\n |-- CarrierDelay: string (nullable = true)\n |-- WeatherDelay: string (nullable = true)\n |-- NASDelay: string (nullable = true)\n |-- SecurityDelay: string (nullable = true)\n |-- LateAircraftDelay: string (nullable = true)\n\n"
     ]
    }
   ],
   "source": [
    "# Veamos el esquema (nombre y tipo de dato de cada columna). Esto son solamente metadatos, por lo que no es ninguna acción.\n",
    "flightsDF.printSchema()"
   ]
  },
  {
   "cell_type": "markdown",
   "metadata": {
    "application/vnd.databricks.v1+cell": {
     "cellMetadata": {},
     "inputWidgets": {},
     "nuid": "78142d97-0732-41b9-a79c-245bb2db9e2b",
     "showTitle": false,
     "title": ""
    }
   },
   "source": [
    "Todas las columnas son cadenas de caracteres porque no hemos indicado el tipo de dato para cada columna ni tampoco le hemos pedido a Spark que intente inferirlo a partir de los datos. No queremos que todas sean string porque hay algunas numéricas que deberían ser tratadas como tales. Vamos a intentar inferir el esquema. Esto supone una lectura un poco más lenta y también es más lento que una tercera opción que consiste en indicar explícitamente el esquema para los datos en el momento de la lectura, que es la opción recomendada si sabemos de antemano qué tipo va a tener cada columna. Si lo hiciésemos de esa manera, en caso de que no se pueda leer con ese esquema obtendríamos un error."
   ]
  },
  {
   "cell_type": "code",
   "execution_count": 0,
   "metadata": {
    "application/vnd.databricks.v1+cell": {
     "cellMetadata": {
      "byteLimit": 2048000,
      "rowLimit": 10000
     },
     "inputWidgets": {},
     "nuid": "1b63cb0b-1445-493d-a188-cd717c6e4084",
     "showTitle": false,
     "title": ""
    }
   },
   "outputs": [
    {
     "output_type": "stream",
     "name": "stdout",
     "output_type": "stream",
     "text": [
      "root\n |-- Month: integer (nullable = true)\n |-- DayofMonth: integer (nullable = true)\n |-- DayOfWeek: integer (nullable = true)\n |-- FlightDate: date (nullable = true)\n |-- Origin: string (nullable = true)\n |-- OriginCity: string (nullable = true)\n |-- Dest: string (nullable = true)\n |-- DestCity: string (nullable = true)\n |-- DepTime: integer (nullable = true)\n |-- DepDelay: double (nullable = true)\n |-- ArrTime: integer (nullable = true)\n |-- ArrDelay: string (nullable = true)\n |-- Cancelled: double (nullable = true)\n |-- CancellationCode: string (nullable = true)\n |-- Diverted: double (nullable = true)\n |-- ActualElapsedTime: double (nullable = true)\n |-- AirTime: double (nullable = true)\n |-- Distance: double (nullable = true)\n |-- CarrierDelay: double (nullable = true)\n |-- WeatherDelay: double (nullable = true)\n |-- NASDelay: double (nullable = true)\n |-- SecurityDelay: double (nullable = true)\n |-- LateAircraftDelay: double (nullable = true)\n\n"
     ]
    }
   ],
   "source": [
    "from pyspark.sql import functions as F\n",
    "\n",
    "flightsDF = spark.read\\\n",
    "                 .option(\"header\", \"true\")\\\n",
    "                 .option(\"inferSchema\", \"true\")\\\n",
    "                 .csv(\"abfss://datos@cursosparkucm.dfs.core.windows.net/flights-jan-apr-2018.csv\") # pon aquí la ruta en tu bucket\n",
    "\n",
    "# Ensuciamos a propósito la variable ArrDelay para que pase a ser un string como suele pasar con frecuencia\n",
    "flightsDF = flightsDF.withColumn(\"ArrDelay\",\\\n",
    "                                 F.when(F.rand(123) < 0.1, \"NA\").otherwise(F.col(\"ArrDelay\")))\\\n",
    "                     .cache()\n",
    "\n",
    "flightsDF.printSchema()"
   ]
  },
  {
   "cell_type": "markdown",
   "metadata": {
    "application/vnd.databricks.v1+cell": {
     "cellMetadata": {},
     "inputWidgets": {},
     "nuid": "747196aa-6f71-4bf6-acb1-8e4f21ad740e",
     "showTitle": false,
     "title": ""
    }
   },
   "source": [
    "Ahora tiene mejor pinta, aunque todavía hay algunas columnas cuyo tipo de dato sigue siendo string cuando la intuición nos dice que deberían ser enteros."
   ]
  },
  {
   "cell_type": "markdown",
   "metadata": {
    "application/vnd.databricks.v1+cell": {
     "cellMetadata": {},
     "inputWidgets": {},
     "nuid": "4c35d437-61c7-4973-9810-b2cf2944fe7a",
     "showTitle": false,
     "title": ""
    }
   },
   "source": [
    "## Operaciones básicas con Data Frames\n",
    "\n",
    "No todas las operaciones sobre un DataFrame de Spark requieren llevar a cabo cálculos en los executors. Algunas simplemente consultan *metadatos* del DataFrame. Puesto que los DataFrames siempre se manejan desde el driver, y toda la metainformación (como por ejemplo nombres y tipos de las columnas, número de particiones, etc) está en el driver, consultar dicha información no requiere calcular nada en los executors."
   ]
  },
  {
   "cell_type": "markdown",
   "metadata": {
    "application/vnd.databricks.v1+cell": {
     "cellMetadata": {},
     "inputWidgets": {},
     "nuid": "829fc9f0-18c1-4782-8fb5-287c12ee3f89",
     "showTitle": false,
     "title": ""
    }
   },
   "source": [
    "### Consultamos las columnas que tiene el DF"
   ]
  },
  {
   "cell_type": "code",
   "execution_count": 0,
   "metadata": {
    "application/vnd.databricks.v1+cell": {
     "cellMetadata": {
      "byteLimit": 2048000,
      "rowLimit": 10000
     },
     "inputWidgets": {},
     "nuid": "d4d5713e-7000-4670-ad5e-7aa73731bc9e",
     "showTitle": false,
     "title": ""
    }
   },
   "outputs": [
    {
     "output_type": "execute_result",
     "data": {
      "text/plain": [
       "['Month',\n",
       " 'DayofMonth',\n",
       " 'DayOfWeek',\n",
       " 'FlightDate',\n",
       " 'Origin',\n",
       " 'OriginCity',\n",
       " 'Dest',\n",
       " 'DestCity',\n",
       " 'DepTime',\n",
       " 'DepDelay',\n",
       " 'ArrTime',\n",
       " 'ArrDelay',\n",
       " 'Cancelled',\n",
       " 'CancellationCode',\n",
       " 'Diverted',\n",
       " 'ActualElapsedTime',\n",
       " 'AirTime',\n",
       " 'Distance',\n",
       " 'CarrierDelay',\n",
       " 'WeatherDelay',\n",
       " 'NASDelay',\n",
       " 'SecurityDelay',\n",
       " 'LateAircraftDelay']"
      ]
     },
     "execution_count": 9,
     "metadata": {},
     "output_type": "execute_result"
    }
   ],
   "source": [
    "flightsDF.columns"
   ]
  },
  {
   "cell_type": "markdown",
   "metadata": {
    "application/vnd.databricks.v1+cell": {
     "cellMetadata": {},
     "inputWidgets": {},
     "nuid": "d8f0eece-8820-4f51-9c5a-c7a55e6b0b2d",
     "showTitle": false,
     "title": ""
    }
   },
   "source": [
    "### Contamos el número de filas"
   ]
  },
  {
   "cell_type": "markdown",
   "metadata": {
    "application/vnd.databricks.v1+cell": {
     "cellMetadata": {},
     "inputWidgets": {},
     "nuid": "1bb42c36-6af3-4299-a944-269ecf0cd762",
     "showTitle": false,
     "title": ""
    }
   },
   "source": [
    "Es una de las primeras cosas que nos preguntamos sobre un dataset: número de filas y columnas (cuántos ejemplos y cuántas variables tenemos para describirlos). Puesto que vamos a llevar a cabo varias transformaciones al DataFrame `flightsDF` a partir de este punto, vamos a usar `cache`() para que Spark lo mantenga en memoria en lugar de liberar la memoria ocupada tras cada acción."
   ]
  },
  {
   "cell_type": "code",
   "execution_count": 0,
   "metadata": {
    "application/vnd.databricks.v1+cell": {
     "cellMetadata": {
      "byteLimit": 2048000,
      "rowLimit": 10000
     },
     "inputWidgets": {},
     "nuid": "15bd368d-70ac-4866-9759-04a59142077f",
     "showTitle": false,
     "title": ""
    }
   },
   "outputs": [
    {
     "output_type": "stream",
     "name": "stdout",
     "output_type": "stream",
     "text": [
      "Los datos tienen 23 columnas\nLos datos tienen 2503113 filas\n"
     ]
    }
   ],
   "source": [
    "# Extraemos los nombres de columna. Esto son solo metadatos de DataFrame, y están en el driver. No es necesaria ninguna\n",
    "# operación sobre el cluster para recuperar la variable interna columns de cualquier DataFrame\n",
    "print(\"Los datos tienen {0} columnas\".format(len(flightsDF.columns)))\n",
    "\n",
    "flightsDF.cache()        # Esta línea no hace cálculos, pero Spark anota que debe mantener este DF en memoria tras la primera vez que sea materializado\n",
    "rows = flightsDF.count() # Esto es una acción que obligará a que flightsDF sea materializado. Para ello, habrá que llevar a cabo\n",
    "                         # las transformaciones que lo generan en la celda anterior: read y withColumn, que están pendientes\n",
    "\n",
    "print(\"Los datos tienen {0} filas\".format(rows))"
   ]
  },
  {
   "cell_type": "code",
   "execution_count": 0,
   "metadata": {
    "application/vnd.databricks.v1+cell": {
     "cellMetadata": {
      "byteLimit": 2048000,
      "rowLimit": 10000
     },
     "inputWidgets": {},
     "nuid": "4ea171be-8fa6-45fc-8783-98f3d49b8c66",
     "showTitle": false,
     "title": ""
    }
   },
   "outputs": [
    {
     "output_type": "execute_result",
     "data": {
      "text/plain": [
       "2503113"
      ]
     },
     "execution_count": 18,
     "metadata": {},
     "output_type": "execute_result"
    }
   ],
   "source": [
    "flightsDF.unpersist()"
   ]
  },
  {
   "cell_type": "code",
   "execution_count": 0,
   "metadata": {
    "application/vnd.databricks.v1+cell": {
     "cellMetadata": {},
     "inputWidgets": {},
     "nuid": "89f661ae-a2ea-4c91-a512-b0c12e5e8fc2",
     "showTitle": false,
     "title": ""
    }
   },
   "outputs": [],
   "source": [
    "flightsDF.is_cached       # consultamos el flag booleano que hay en el driver"
   ]
  },
  {
   "cell_type": "code",
   "execution_count": 0,
   "metadata": {
    "application/vnd.databricks.v1+cell": {
     "cellMetadata": {},
     "inputWidgets": {},
     "nuid": "c868b957-33b1-405f-9ca8-412e54bde3e5",
     "showTitle": false,
     "title": ""
    }
   },
   "outputs": [],
   "source": [
    "flightsDF.count()"
   ]
  },
  {
   "cell_type": "markdown",
   "metadata": {
    "application/vnd.databricks.v1+cell": {
     "cellMetadata": {},
     "inputWidgets": {},
     "nuid": "e7677faf-c50b-4c8c-adf0-e449cafa80e6",
     "showTitle": false,
     "title": ""
    }
   },
   "source": [
    "¿Qué pasaría si no cacheamos flightsDF? Probemos a ejecutar las celdas anteriores sin cachear y cacheando."
   ]
  },
  {
   "cell_type": "markdown",
   "metadata": {
    "application/vnd.databricks.v1+cell": {
     "cellMetadata": {},
     "inputWidgets": {},
     "nuid": "9cf6b361-921e-4496-a8d2-f2bdc08c37d3",
     "showTitle": false,
     "title": ""
    }
   },
   "source": [
    "### Seleccionar columnas por nombre"
   ]
  },
  {
   "cell_type": "code",
   "execution_count": 0,
   "metadata": {
    "application/vnd.databricks.v1+cell": {
     "cellMetadata": {
      "byteLimit": 2048000,
      "rowLimit": 10000
     },
     "inputWidgets": {},
     "nuid": "676abf18-2dab-49d7-92d0-7a623952a5e5",
     "showTitle": false,
     "title": ""
    }
   },
   "outputs": [
    {
     "output_type": "stream",
     "name": "stdout",
     "output_type": "stream",
     "text": [
      "+-----+----------+-------+\n|Month|DayofMonth|ArrTime|\n+-----+----------+-------+\n|    1|        14|   NULL|\n|    1|         3|   1506|\n|    1|         6|   1543|\n|    1|         7|   1455|\n|    1|         8|   1509|\n|    1|         9|   1504|\n|    1|        10|   1455|\n|    1|        11|   1452|\n|    1|        12|   1748|\n|    1|        13|   1514|\n+-----+----------+-------+\nonly showing top 10 rows\n\n"
     ]
    },
    {
     "output_type": "display_data",
     "data": {
      "text/html": [
       "<style scoped>\n",
       "  .table-result-container {\n",
       "    max-height: 300px;\n",
       "    overflow: auto;\n",
       "  }\n",
       "  table, th, td {\n",
       "    border: 1px solid black;\n",
       "    border-collapse: collapse;\n",
       "  }\n",
       "  th, td {\n",
       "    padding: 5px;\n",
       "  }\n",
       "  th {\n",
       "    text-align: left;\n",
       "  }\n",
       "</style><div class='table-result-container'><table class='table-result'><thead style='background-color: white'><tr><th>Month</th><th>Distance</th><th>DistKm</th></tr></thead><tbody><tr><td>1</td><td>374.0</td><td>598.4</td></tr><tr><td>1</td><td>198.0</td><td>316.8</td></tr></tbody></table></div>"
      ]
     },
     "metadata": {
      "application/vnd.databricks.v1+output": {
       "addedWidgets": {},
       "aggData": [],
       "aggError": "",
       "aggOverflow": false,
       "aggSchema": [],
       "aggSeriesLimitReached": false,
       "aggType": "",
       "arguments": {},
       "columnCustomDisplayInfos": {},
       "data": [
        [
         1,
         374.0,
         598.4
        ],
        [
         1,
         198.0,
         316.8
        ]
       ],
       "datasetInfos": [],
       "dbfsResultPath": null,
       "isJsonSchema": true,
       "metadata": {},
       "overflow": false,
       "plotOptions": {
        "customPlotOptions": {},
        "displayType": "table",
        "pivotAggregation": null,
        "pivotColumns": null,
        "xColumns": null,
        "yColumns": null
       },
       "removedWidgets": [],
       "schema": [
        {
         "metadata": "{}",
         "name": "Month",
         "type": "\"integer\""
        },
        {
         "metadata": "{}",
         "name": "Distance",
         "type": "\"double\""
        },
        {
         "metadata": "{}",
         "name": "DistKm",
         "type": "\"double\""
        }
       ],
       "type": "table"
      }
     },
     "output_type": "display_data"
    },
    {
     "output_type": "display_data",
     "data": {
      "text/html": [
       "<style scoped>\n",
       "  .table-result-container {\n",
       "    max-height: 300px;\n",
       "    overflow: auto;\n",
       "  }\n",
       "  table, th, td {\n",
       "    border: 1px solid black;\n",
       "    border-collapse: collapse;\n",
       "  }\n",
       "  th, td {\n",
       "    padding: 5px;\n",
       "  }\n",
       "  th {\n",
       "    text-align: left;\n",
       "  }\n",
       "</style><div class='table-result-container'><table class='table-result'><thead style='background-color: white'><tr><th>Month</th><th>Distance</th><th>DistKm</th></tr></thead><tbody><tr><td>1</td><td>374.0</td><td>598.4</td></tr><tr><td>1</td><td>198.0</td><td>316.8</td></tr></tbody></table></div>"
      ]
     },
     "metadata": {
      "application/vnd.databricks.v1+output": {
       "addedWidgets": {},
       "aggData": [],
       "aggError": "",
       "aggOverflow": false,
       "aggSchema": [],
       "aggSeriesLimitReached": false,
       "aggType": "",
       "arguments": {},
       "columnCustomDisplayInfos": {},
       "data": [
        [
         1,
         374.0,
         598.4
        ],
        [
         1,
         198.0,
         316.8
        ]
       ],
       "datasetInfos": [],
       "dbfsResultPath": null,
       "isJsonSchema": true,
       "metadata": {},
       "overflow": false,
       "plotOptions": {
        "customPlotOptions": {},
        "displayType": "table",
        "pivotAggregation": null,
        "pivotColumns": null,
        "xColumns": null,
        "yColumns": null
       },
       "removedWidgets": [],
       "schema": [
        {
         "metadata": "{}",
         "name": "Month",
         "type": "\"integer\""
        },
        {
         "metadata": "{}",
         "name": "Distance",
         "type": "\"double\""
        },
        {
         "metadata": "{}",
         "name": "DistKm",
         "type": "\"double\""
        }
       ],
       "type": "table"
      }
     },
     "output_type": "display_data"
    }
   ],
   "source": [
    "\n",
    "from pyspark.sql import functions as F\n",
    "\n",
    "resultDF = flightsDF.select(\"Month\", \"DayofMonth\", \"ArrTime\")\n",
    "resultDF.show(10) # los nombres son sensibles a mayúsculas\n",
    "\n",
    "resultDF_2 = flightsDF.select(\n",
    "  F.col(\"Month\"), \n",
    "  F.col(\"Distance\"), \n",
    "  (1.6*F.col(\"Distance\")).alias(\"DistKm\")\n",
    ")\n",
    "\n",
    "resultDF_3 = flightsDF.selectExpr(\"Month\", \"Distance\", \"1.6 * Distance AS DistKm\")\n",
    "\n",
    "resultDF_2.limit(2).display()\n",
    "\n",
    "resultDF_3.limit(2).display()"
   ]
  },
  {
   "cell_type": "markdown",
   "metadata": {
    "application/vnd.databricks.v1+cell": {
     "cellMetadata": {},
     "inputWidgets": {},
     "nuid": "6e7d42f5-6fd2-4555-821a-18eb083893cc",
     "showTitle": false,
     "title": ""
    }
   },
   "source": [
    "### Filtramos (retenemos) filas en base a los valores de una o varias columnas\n",
    "\n",
    "Esto se puede hacer con sintaxis de SQL puro, o bien con operaciones sobre objetos columna"
   ]
  },
  {
   "cell_type": "markdown",
   "metadata": {
    "application/vnd.databricks.v1+cell": {
     "cellMetadata": {},
     "inputWidgets": {},
     "nuid": "ccd828f6-78fa-46e5-bf2f-2c36f228437c",
     "showTitle": false,
     "title": ""
    }
   },
   "source": [
    "La mayoría de las transformaciones están definidas en el paquete `pyspark.sql.functions`, por lo que es frecuente importar el paquete completo con un alias, como `F`, en lugar de importar cada función individual. A partir de ese momento usamos `F.` antes del nombre de cada función, para decirle a python dónde buscar esa función.\n",
    "\n",
    "Mostramos también cómo encadenar varias transformaciones, sean la misma o distintas transformaciones combinadas una tras otra."
   ]
  },
  {
   "cell_type": "code",
   "execution_count": 0,
   "metadata": {
    "application/vnd.databricks.v1+cell": {
     "cellMetadata": {
      "byteLimit": 2048000,
      "rowLimit": 10000
     },
     "inputWidgets": {},
     "nuid": "f4d55f8e-2989-406f-a8b4-fc8187134e1f",
     "showTitle": false,
     "title": ""
    }
   },
   "outputs": [],
   "source": [
    "flightsJanuary20 = flightsDF\\\n",
    "                      .where((F.col(\"DayofMonth\") == 20) & (F.col(\"Month\") == 1))\\\n",
    "                      .withColumn(\"DistKm\", 1.6 * F.col(\"Distance\"))\\\n",
    "                      .withColumn(\"DobleDistancia\", 2 * F.col(\"DistKm\"))"
   ]
  },
  {
   "cell_type": "code",
   "execution_count": 0,
   "metadata": {
    "application/vnd.databricks.v1+cell": {
     "cellMetadata": {
      "byteLimit": 2048000,
      "rowLimit": 10000
     },
     "inputWidgets": {},
     "nuid": "d097c5f9-12a6-400c-a0c1-4843eb5dd1a6",
     "showTitle": false,
     "title": ""
    }
   },
   "outputs": [
    {
     "output_type": "stream",
     "name": "stdout",
     "output_type": "stream",
     "text": [
      "root\n |-- Month: integer (nullable = true)\n |-- DayofMonth: integer (nullable = true)\n |-- DayOfWeek: integer (nullable = true)\n |-- FlightDate: date (nullable = true)\n |-- Origin: string (nullable = true)\n |-- OriginCity: string (nullable = true)\n |-- Dest: string (nullable = true)\n |-- DestCity: string (nullable = true)\n |-- DepTime: integer (nullable = true)\n |-- DepDelay: double (nullable = true)\n |-- ArrTime: integer (nullable = true)\n |-- ArrDelay: string (nullable = true)\n |-- Cancelled: double (nullable = true)\n |-- CancellationCode: string (nullable = true)\n |-- Diverted: double (nullable = true)\n |-- ActualElapsedTime: double (nullable = true)\n |-- AirTime: double (nullable = true)\n |-- Distance: double (nullable = true)\n |-- CarrierDelay: double (nullable = true)\n |-- WeatherDelay: double (nullable = true)\n |-- NASDelay: double (nullable = true)\n |-- SecurityDelay: double (nullable = true)\n |-- LateAircraftDelay: double (nullable = true)\n |-- DistKm: double (nullable = true)\n |-- DobleDistancia: double (nullable = true)\n\n"
     ]
    }
   ],
   "source": [
    "flightsJanuary20.printSchema()"
   ]
  },
  {
   "cell_type": "markdown",
   "metadata": {
    "application/vnd.databricks.v1+cell": {
     "cellMetadata": {},
     "inputWidgets": {},
     "nuid": "8c507b93-7890-4868-9e4a-6c45ec636935",
     "showTitle": false,
     "title": ""
    }
   },
   "source": [
    "**No olvidemos cachear el DataFrame cuando tengamos previsto hacer varias operaciones sobre él, o de lo contrario estaremos repitiendo muchas veces los cálculos previos que llevaron a ese DataFrame!!**"
   ]
  },
  {
   "cell_type": "markdown",
   "metadata": {
    "application/vnd.databricks.v1+cell": {
     "cellMetadata": {},
     "inputWidgets": {},
     "nuid": "a7f35562-710b-44a0-9d74-b6f22d77899b",
     "showTitle": false,
     "title": ""
    }
   },
   "source": [
    "<div class=\"alert alert-block alert-info\">\n",
    "<b>RECUERDA:</b> Spark hace todas estas operaciones de manera distribuida en el cluster, por tanto cada nodo del cluster está filtrando filas de entre aquellas que están presentes en ese nodo (más precisamente, en ese executor). Cada executor envía al driver el recuento de cuántas filas ha filtrado, y los resultados son agregados en el driver para mostrar el recuento total.\n",
    "</div>"
   ]
  },
  {
   "cell_type": "markdown",
   "metadata": {
    "application/vnd.databricks.v1+cell": {
     "cellMetadata": {},
     "inputWidgets": {},
     "nuid": "76c1de6c-9da8-4df3-90bd-8995a020de34",
     "showTitle": false,
     "title": ""
    }
   },
   "source": [
    "<div class=\"alert alert-block alert-success\">\n",
    "<b>TU TURNO</b>: muestra por pantalla el retraso en la llegada, el aeropuerto de origen y de destino de aquellos vuelos que tuvieron lugar en Domingo y con un retraso a la llegada mayor de 15 minutos. Muestra el esquema de dicho DataFrame resultante.\n",
    "\n",
    "</div>"
   ]
  },
  {
   "cell_type": "markdown",
   "metadata": {
    "application/vnd.databricks.v1+cell": {
     "cellMetadata": {},
     "inputWidgets": {},
     "nuid": "c75ca895-5a14-4371-ac00-05bcb42d5337",
     "showTitle": false,
     "title": ""
    }
   },
   "source": [
    "### No utilices `show` al final de una secuencia de transformaciones\n",
    "\n",
    "<b>CUIDADO</b>: si pretendes almacenar el DF resultante de una secuencia de transformciones encadenadas, no pongas nunca `show()` al final de esa secuencia! La acción `show()` devuelve `None` (valor nulo de Python) y por tanto, lo que estarás almacenando en esa variable será el nulo y no podrás seguir utilizando la variable. Lo correcto es almacenar el resultado de la última transformación, y luego imprimir el DF."
   ]
  },
  {
   "cell_type": "code",
   "execution_count": 0,
   "metadata": {
    "application/vnd.databricks.v1+cell": {
     "cellMetadata": {
      "byteLimit": 2048000,
      "rowLimit": 10000
     },
     "inputWidgets": {},
     "nuid": "6f9446f0-0467-48c2-ac3a-c53ba9616184",
     "showTitle": false,
     "title": ""
    }
   },
   "outputs": [
    {
     "output_type": "stream",
     "name": "stdout",
     "output_type": "stream",
     "text": [
      "+-----+-------+\n|Month|ArrTime|\n+-----+-------+\n|    1|   1533|\n|    1|   1734|\n|    1|   2025|\n|    1|   1531|\n|    1|    722|\n|    1|   1509|\n|    1|   1408|\n|    1|   1134|\n|    1|   1655|\n|    1|    752|\n|    1|   1451|\n|    1|   1448|\n|    1|   1314|\n|    1|    956|\n|    1|   1448|\n|    1|   1946|\n|    1|   1434|\n|    1|   1104|\n|    1|   1617|\n|    1|   1347|\n+-----+-------+\nonly showing top 20 rows\n\n"
     ]
    }
   ],
   "source": [
    "flightsJanuary20 = flightsDF\\\n",
    "                      .where((F.col(\"DayofMonth\") == 20) & (F.col(\"Month\") == 1))\\\n",
    "                      .select(\"Month\", \"ArrTime\")\n",
    "\n",
    "flightsJanuary20.show()"
   ]
  },
  {
   "cell_type": "markdown",
   "metadata": {
    "application/vnd.databricks.v1+cell": {
     "cellMetadata": {},
     "inputWidgets": {},
     "nuid": "c7f04136-9cb9-4379-9bc5-00e49ec864fb",
     "showTitle": false,
     "title": ""
    }
   },
   "source": [
    "### Existen distintas sintaxis que podemos usar para referirnos a objetos Column de un DF de Spark\n",
    "\n",
    "1. Podemos usar `F.col(\"nombreColumna\")`\n",
    "2. También `nombreDataFrame.nombreColumna`\n",
    "3. Y también `nombreDataFrame[\"nombreColumna\"]`\n",
    "\n",
    "Pero las dos últimas tienen un problema, como podemos ver abajo: sólo pueden utilizarse sobre un DF que tenga nombre, es decir, que esté almacenado en alguna variable. Pero no todos lo están...\n",
    "\n",
    "Por ejemplo: *si intentamos aplicar las opciones 2 y 3 sobre una columna que hemos creado justo en un **DataFrame intermedio**, no podremos*, porque cualquier DF intermedio en una secuencia de transformaciones *encadenadas* **no tiene nombre**, y por tanto es imposible referirnos a una columna como `nombreDF.nombreColumna` porque no tenemos ninguna manera de referirnos a ese DataFrame."
   ]
  },
  {
   "cell_type": "code",
   "execution_count": 0,
   "metadata": {
    "application/vnd.databricks.v1+cell": {
     "cellMetadata": {
      "byteLimit": 2048000,
      "rowLimit": 10000
     },
     "inputWidgets": {},
     "nuid": "539beefa-e652-4a5b-9804-e753f24764ca",
     "showTitle": false,
     "title": ""
    }
   },
   "outputs": [
    {
     "output_type": "execute_result",
     "data": {
      "text/plain": [
       "DataFrame[Origin: string, Dest: string, DistKm: double]"
      ]
     },
     "execution_count": 10,
     "metadata": {},
     "output_type": "execute_result"
    }
   ],
   "source": [
    "# no puedo poner flightsDF.DistKm porque DistKm no pertenece a flightsDF !!\n",
    "\n",
    "flightsDF.withColumn(\"DistKm\", 1.6*flightsDF.Distance)\\\n",
    "         .select(flightsDF.Origin, flightsDF.Dest, F.col(\"DistKm\"))"
   ]
  },
  {
   "cell_type": "markdown",
   "metadata": {
    "application/vnd.databricks.v1+cell": {
     "cellMetadata": {},
     "inputWidgets": {},
     "nuid": "bb8639c3-0f88-4ee8-8d6d-cd629927fab5",
     "showTitle": false,
     "title": ""
    }
   },
   "source": [
    "En cambio, la sintaxis `F.col(\"nombreColumna\")` **funciona siempre**, ya que está indicando un objeto columna que realmente *toma contexto* en el momento en el que lo utilizamos dentro de alguna transformación (por ejemplo select, withColumn, ...). Si el DF sobre el cual estamos aplicando la transformación, aunque dicho DF no tenga nombre, sí posee la columna a la que nos referimos dentro de F.col, entonces la operación es correcta y se puede realizar sin problema."
   ]
  },
  {
   "cell_type": "code",
   "execution_count": 0,
   "metadata": {
    "application/vnd.databricks.v1+cell": {
     "cellMetadata": {
      "byteLimit": 2048000,
      "rowLimit": 10000
     },
     "inputWidgets": {},
     "nuid": "ec102c78-63f5-4bfb-806d-4b0ebc93367e",
     "showTitle": false,
     "title": ""
    }
   },
   "outputs": [
    {
     "output_type": "stream",
     "name": "stdout",
     "output_type": "stream",
     "text": [
      "+------+-----------------+-------------+-----------+\n|minimo|        distMedia|origDistintos|mitadOrigin|\n+------+-----------------+-------------+-----------+\n|  -1.0|763.9655660771208|          356|      178.0|\n+------+-----------------+-------------+-----------+\n\n"
     ]
    }
   ],
   "source": [
    "columna_orig = F.col(\"origDistintos\")\n",
    "\n",
    "distinctOrigins = flightsDF.select(F.col(\"ArrDelay\"), flightsDF.Distance, flightsDF[\"Origin\"])\\\n",
    "                            .select(F.lit(F.min(\"ArrDelay\")).alias(\"minimo\"),\n",
    "                                    F.mean(\"Distance\").alias(\"distMedia\"),\n",
    "                                    F.countDistinct(\"Origin\").alias(\"origDistintos\"))\\\n",
    "                            .select(\"minimo\", F.col(\"distMedia\"), F.col(\"origDistintos\"))\\\n",
    "                            .withColumn(\"mitadOrigin\", columna_orig / 2)  # OJO: no se pueden mezclar columnas de una sola fila con columnas normales\n",
    "distinctOrigins.show()\n"
   ]
  },
  {
   "cell_type": "markdown",
   "metadata": {
    "application/vnd.databricks.v1+cell": {
     "cellMetadata": {},
     "inputWidgets": {},
     "nuid": "332d91a5-4660-4dbb-a5b5-671bb3f79108",
     "showTitle": false,
     "title": ""
    }
   },
   "source": [
    "### Crear y seleccionar columnas al vuelo"
   ]
  },
  {
   "cell_type": "markdown",
   "metadata": {
    "application/vnd.databricks.v1+cell": {
     "cellMetadata": {},
     "inputWidgets": {},
     "nuid": "7e322166-3bd1-43cd-bb9b-c07c77896f9d",
     "showTitle": false,
     "title": ""
    }
   },
   "source": [
    "Podemos usar `select` no solo para seleccionar columnas existentes sino también para crear nuevas columnas al vuelo y a la vez seleccionarlas. Vamos a seleccionar Origin y Dest, que ya existen, a la vez que seleccionamos una tercera columna que estamos creando al vuelo, con la transformación de la distancia a km. Le ponemos como nombre \"DistanceKm\" en ese momento que la estamos creando, mediante la función `alias`. Si no usamos `alias`, Spark le pondrá a la nueva columna un nombre por defecto que en este caso sería \"1.6 * Distance\". Se recomienda usar alias para dar nombre a las nuevas columnas."
   ]
  },
  {
   "cell_type": "code",
   "execution_count": 0,
   "metadata": {
    "application/vnd.databricks.v1+cell": {
     "cellMetadata": {},
     "inputWidgets": {},
     "nuid": "cb551815-c1ee-4455-9c7a-e4abba810f4d",
     "showTitle": false,
     "title": ""
    }
   },
   "outputs": [],
   "source": [
    "# Esto es una posibilidad: selectExpr poniendo expresiones SQL puras\n",
    "flightsDF.selectExpr(\"Origin\", \"Dest\", \"1.6*Distance AS DistanceKm\").show()"
   ]
  },
  {
   "cell_type": "markdown",
   "metadata": {
    "application/vnd.databricks.v1+cell": {
     "cellMetadata": {},
     "inputWidgets": {},
     "nuid": "efb7b592-5f5a-4c35-94bc-f665db9d0860",
     "showTitle": false,
     "title": ""
    }
   },
   "source": [
    "<div class=\"alert alert-block alert-success\">\n",
    "<b>TU TURNO</b>: crear un DataFrame con tres columnas seleccionando \"Origin\", \"OriginCity\" y una nueva columna de tipo string creada concatenando Origin y OriginCity con un guión \"-\". Utilizar `withColumn` y dentro la función `concat_ws` (concatenar con separador) con sintaxis <a target=\"_blank\" href=\"https://spark.apache.org/docs/latest/api/python/pyspark.sql.html#pyspark.sql.functions.concat_ws\">F.concat_ws(\"-\", columna1, columna2)</a> del paquete pyspark.sql.functions.\n",
    "</div>"
   ]
  },
  {
   "cell_type": "code",
   "execution_count": 0,
   "metadata": {
    "application/vnd.databricks.v1+cell": {
     "cellMetadata": {
      "byteLimit": 2048000,
      "rowLimit": 10000
     },
     "inputWidgets": {},
     "nuid": "e999d5c4-e823-4cb3-82d9-c3dd5d24f93b",
     "showTitle": false,
     "title": ""
    }
   },
   "outputs": [
    {
     "output_type": "execute_result",
     "data": {
      "text/plain": [
       "DataFrame[Origin: string, OriginCity: string, concat_ws(-, Origin, OriginCity): string]"
      ]
     },
     "execution_count": 20,
     "metadata": {},
     "output_type": "execute_result"
    }
   ],
   "source": [
    "result_df = flightsDF.select(\n",
    "    F.col(\"Origin\"),\n",
    "    F.col(\"OriginCity\"),\n",
    "    F.concat_ws(\"-\", F.col(\"Origin\"), F.col(\"OriginCity\")).alias(\"concatenado\")\n",
    ")\n",
    "\n",
    "result_df"
   ]
  },
  {
   "cell_type": "markdown",
   "metadata": {
    "application/vnd.databricks.v1+cell": {
     "cellMetadata": {},
     "inputWidgets": {},
     "nuid": "8de2a8af-c237-4607-a045-e6e8851336bd",
     "showTitle": false,
     "title": ""
    }
   },
   "source": [
    "### Cuidado: no es posible seleccionar columnas de \"muchas filas\" y de \"una sola fila\" a la vez\n",
    "\n",
    "Cuando aplicamos una función de agregación a una columna completa (p.ej. el máximo de una columna), el resultado es otro objeto Column de *una sola fila*. No se puede seleccionar ese objeto a la vez que una columna que sí tiene múltiples filas."
   ]
  },
  {
   "cell_type": "code",
   "execution_count": 0,
   "metadata": {
    "application/vnd.databricks.v1+cell": {
     "cellMetadata": {},
     "inputWidgets": {},
     "nuid": "bf35dc59-6b91-4621-8543-c31b3da3bdf8",
     "showTitle": false,
     "title": ""
    }
   },
   "outputs": [],
   "source": [
    "# Esto es correcto porque todas las columnas seleccionadas o creadas tienen una sola fila\n",
    "minimosDF = flightsDF.select(F.max(\"ArrDelay\").alias(\"maxDelay\"),\n",
    "                             F.min(\"ArrDelay\").alias(\"minDelay\"))\n",
    "\n",
    "# Esto no es correcto porque la primera columna tiene muchas filas pero la columna maxDelay tiene una sola fila\n",
    "badDF = flightsDF.select(F.col(\"ArrDelay\"), # ERROR!!!\n",
    "                         F.max(\"ArrDelay\").alias(\"maxDelay\"))"
   ]
  },
  {
   "cell_type": "markdown",
   "metadata": {
    "application/vnd.databricks.v1+cell": {
     "cellMetadata": {},
     "inputWidgets": {},
     "nuid": "b8206570-9aff-40e9-91e8-db4c02bbb10d",
     "showTitle": false,
     "title": ""
    }
   },
   "source": [
    "### Seleccionar filas únicas"
   ]
  },
  {
   "cell_type": "markdown",
   "metadata": {
    "application/vnd.databricks.v1+cell": {
     "cellMetadata": {},
     "inputWidgets": {},
     "nuid": "6d3c8b1b-3679-4c75-8246-1854c5805d21",
     "showTitle": false,
     "title": ""
    }
   },
   "source": [
    "Para hacerse mejor idea de cómo es una variable categórica, es lógico querer cuántos valores distintos existen en nuestro dataset. Si consideramos todas las columnas, sería raro tener dos filas exactamente iguales en todos los valores, pero si seleccionamos solamente una o unas pocas columnas, podemos ver cuántas combinaciones distintas de valores de esas columnas se dan en el dataset.\n"
   ]
  },
  {
   "cell_type": "code",
   "execution_count": 0,
   "metadata": {
    "application/vnd.databricks.v1+cell": {
     "cellMetadata": {
      "byteLimit": 2048000,
      "rowLimit": 10000
     },
     "inputWidgets": {},
     "nuid": "88127472-db2f-45a0-af75-6b86de1b4c28",
     "showTitle": false,
     "title": ""
    }
   },
   "outputs": [
    {
     "output_type": "stream",
     "name": "stdout",
     "output_type": "stream",
     "text": [
      "Hay 2483808 filas distintas\n"
     ]
    }
   ],
   "source": [
    "distinctFlights = flightsDF.distinct()  # distinct es una transformación que devuelve el DF sin las filas repetidas\n",
    "distinctFlightsCount = distinctFlights.count() # count es una acción y provoca que se ejecute la transformación distinct\n",
    "\n",
    "print(\"Hay {0} filas distintas\".format(distinctFlightsCount))"
   ]
  },
  {
   "cell_type": "markdown",
   "metadata": {
    "application/vnd.databricks.v1+cell": {
     "cellMetadata": {},
     "inputWidgets": {},
     "nuid": "5afdec48-edcb-4d6b-8ec5-172765418fd6",
     "showTitle": false,
     "title": ""
    }
   },
   "source": [
    "Si seleccionamos solo las columnas `Origin` y `Dest` y nos quedamos con las filas distintas (quitamos repetidos), entonces obtenemos un DataFrame con los posibles aeropuertos de origen y destino, es decir, aquellos trayectos que existen en un vuelo (pueden aparecer varias veces porque seguramente existirán muchos vuelos a lo largo de 2018 entre un origen y un destino)"
   ]
  },
  {
   "cell_type": "markdown",
   "metadata": {
    "application/vnd.databricks.v1+cell": {
     "cellMetadata": {},
     "inputWidgets": {},
     "nuid": "7188742b-b17a-4257-9e30-5ea22739cbb4",
     "showTitle": false,
     "title": ""
    }
   },
   "source": [
    "<div class=\"alert alert-block alert-success\">\n",
    "    <b>TU TURNO</b>: ¿<b>cuántas</b> combinaciones de Origin y Dest existen?\n",
    "</div>"
   ]
  },
  {
   "cell_type": "markdown",
   "metadata": {
    "application/vnd.databricks.v1+cell": {
     "cellMetadata": {},
     "inputWidgets": {},
     "nuid": "144fdb71-d9df-4b8b-b6e5-aadb7d5525b1",
     "showTitle": false,
     "title": ""
    }
   },
   "source": [
    "**Respuesta en la siguiente celda:**"
   ]
  },
  {
   "cell_type": "markdown",
   "metadata": {
    "application/vnd.databricks.v1+cell": {
     "cellMetadata": {},
     "inputWidgets": {},
     "nuid": "5782edb6-33cc-4137-b47f-a1bc17e9f9da",
     "showTitle": false,
     "title": ""
    }
   },
   "source": [
    "Aunque tengamos 2.5 millones de filas, solo hay 5795 combinaciones distintas de un aeropuerto de origen y otro de destino.\n",
    "\n",
    "<div class=\"alert alert-block alert-success\">\n",
    "    <b>TU TURNO</b>: ¿<b>cuántos</b> aeropuertos de origen existen?\n",
    "</div>"
   ]
  },
  {
   "cell_type": "markdown",
   "metadata": {
    "application/vnd.databricks.v1+cell": {
     "cellMetadata": {},
     "inputWidgets": {},
     "nuid": "a61c6f0b-1dab-4f73-91c3-0285358338c2",
     "showTitle": false,
     "title": ""
    }
   },
   "source": [
    "<div class=\"alert alert-block alert-success\">\n",
    "<b>TU TURNO</b>: vamos a hacer esto para cada columna, en un bucle, para hacernos a la idea de cuántos valores hay. Esto solo tiene sentido en realidad para columnas categóricas y no para numéricas donde casi todos los valores serán distintos.\n",
    "</div>"
   ]
  },
  {
   "cell_type": "markdown",
   "metadata": {
    "application/vnd.databricks.v1+cell": {
     "cellMetadata": {},
     "inputWidgets": {},
     "nuid": "98b561f6-6301-42f9-80b1-91a824f2cb1e",
     "showTitle": false,
     "title": ""
    }
   },
   "source": [
    "### Otra opción: función que recibe un DF y devuelve otro DF que tiene una sola fila con el conteo de valores distintos de cada columna\n",
    "\n",
    "Utilizamos list-comprehension para crear una **lista de objetos Column, que todavía no están ligados a ningún DataFrame** hasta que no utilicemos esa lista en alguna transformación (por ejemplo select) y entonces esos objetos columna **toman contexto**."
   ]
  },
  {
   "cell_type": "code",
   "execution_count": 0,
   "metadata": {
    "application/vnd.databricks.v1+cell": {
     "cellMetadata": {
      "byteLimit": 2048000,
      "rowLimit": 10000
     },
     "inputWidgets": {},
     "nuid": "04285eb1-7c1a-44e7-9b58-1aa03841dea4",
     "showTitle": false,
     "title": ""
    }
   },
   "outputs": [],
   "source": [
    "def df_conteos(sparkDF):\n",
    "    # creamos una lista de objetos columna sin contexto (no pertenecen a ningún DF)\n",
    "    colsRecuento = [F.countDistinct(c).alias(c) for c in sparkDF.columns]\n",
    "    # Y ahora lo utilizamos en select y entonces Spark entiende a qúe DF nos referimos\n",
    "    result_df = sparkDF.select(colsRecuento)\n",
    "    return result_df\n",
    "\n",
    "conteosDF = df_conteos(flightsDF)\n",
    "#conteosDF.show()"
   ]
  },
  {
   "cell_type": "code",
   "execution_count": 0,
   "metadata": {
    "application/vnd.databricks.v1+cell": {
     "cellMetadata": {
      "byteLimit": 2048000,
      "rowLimit": 10000
     },
     "inputWidgets": {},
     "nuid": "c40628a3-3696-4573-a2c3-c568c8fb52bd",
     "showTitle": false,
     "title": ""
    }
   },
   "outputs": [
    {
     "output_type": "display_data",
     "data": {
      "text/html": [
       "<style scoped>\n",
       "  .table-result-container {\n",
       "    max-height: 300px;\n",
       "    overflow: auto;\n",
       "  }\n",
       "  table, th, td {\n",
       "    border: 1px solid black;\n",
       "    border-collapse: collapse;\n",
       "  }\n",
       "  th, td {\n",
       "    padding: 5px;\n",
       "  }\n",
       "  th {\n",
       "    text-align: left;\n",
       "  }\n",
       "</style><div class='table-result-container'><table class='table-result'><thead style='background-color: white'><tr><th>Month</th><th>DayofMonth</th><th>DayOfWeek</th><th>FlightDate</th><th>Origin</th><th>OriginCity</th><th>Dest</th><th>DestCity</th><th>DepTime</th><th>DepDelay</th><th>ArrTime</th><th>ArrDelay</th><th>Cancelled</th><th>CancellationCode</th><th>Diverted</th><th>ActualElapsedTime</th><th>AirTime</th><th>Distance</th><th>CarrierDelay</th><th>WeatherDelay</th><th>NASDelay</th><th>SecurityDelay</th><th>LateAircraftDelay</th></tr></thead><tbody><tr><td>4</td><td>31</td><td>7</td><td>120</td><td>356</td><td>350</td><td>356</td><td>350</td><td>1440</td><td>1378</td><td>1440</td><td>1377</td><td>2</td><td>5</td><td>2</td><td>705</td><td>669</td><td>1466</td><td>1094</td><td>748</td><td>609</td><td>128</td><td>739</td></tr></tbody></table></div>"
      ]
     },
     "metadata": {
      "application/vnd.databricks.v1+output": {
       "addedWidgets": {},
       "aggData": [],
       "aggError": "",
       "aggOverflow": false,
       "aggSchema": [],
       "aggSeriesLimitReached": false,
       "aggType": "",
       "arguments": {},
       "columnCustomDisplayInfos": {},
       "data": [
        [
         4,
         31,
         7,
         120,
         356,
         350,
         356,
         350,
         1440,
         1378,
         1440,
         1377,
         2,
         5,
         2,
         705,
         669,
         1466,
         1094,
         748,
         609,
         128,
         739
        ]
       ],
       "datasetInfos": [],
       "dbfsResultPath": null,
       "isJsonSchema": true,
       "metadata": {},
       "overflow": false,
       "plotOptions": {
        "customPlotOptions": {},
        "displayType": "table",
        "pivotAggregation": null,
        "pivotColumns": null,
        "xColumns": null,
        "yColumns": null
       },
       "removedWidgets": [],
       "schema": [
        {
         "metadata": "{}",
         "name": "Month",
         "type": "\"long\""
        },
        {
         "metadata": "{}",
         "name": "DayofMonth",
         "type": "\"long\""
        },
        {
         "metadata": "{}",
         "name": "DayOfWeek",
         "type": "\"long\""
        },
        {
         "metadata": "{}",
         "name": "FlightDate",
         "type": "\"long\""
        },
        {
         "metadata": "{}",
         "name": "Origin",
         "type": "\"long\""
        },
        {
         "metadata": "{}",
         "name": "OriginCity",
         "type": "\"long\""
        },
        {
         "metadata": "{}",
         "name": "Dest",
         "type": "\"long\""
        },
        {
         "metadata": "{}",
         "name": "DestCity",
         "type": "\"long\""
        },
        {
         "metadata": "{}",
         "name": "DepTime",
         "type": "\"long\""
        },
        {
         "metadata": "{}",
         "name": "DepDelay",
         "type": "\"long\""
        },
        {
         "metadata": "{}",
         "name": "ArrTime",
         "type": "\"long\""
        },
        {
         "metadata": "{}",
         "name": "ArrDelay",
         "type": "\"long\""
        },
        {
         "metadata": "{}",
         "name": "Cancelled",
         "type": "\"long\""
        },
        {
         "metadata": "{}",
         "name": "CancellationCode",
         "type": "\"long\""
        },
        {
         "metadata": "{}",
         "name": "Diverted",
         "type": "\"long\""
        },
        {
         "metadata": "{}",
         "name": "ActualElapsedTime",
         "type": "\"long\""
        },
        {
         "metadata": "{}",
         "name": "AirTime",
         "type": "\"long\""
        },
        {
         "metadata": "{}",
         "name": "Distance",
         "type": "\"long\""
        },
        {
         "metadata": "{}",
         "name": "CarrierDelay",
         "type": "\"long\""
        },
        {
         "metadata": "{}",
         "name": "WeatherDelay",
         "type": "\"long\""
        },
        {
         "metadata": "{}",
         "name": "NASDelay",
         "type": "\"long\""
        },
        {
         "metadata": "{}",
         "name": "SecurityDelay",
         "type": "\"long\""
        },
        {
         "metadata": "{}",
         "name": "LateAircraftDelay",
         "type": "\"long\""
        }
       ],
       "type": "table"
      }
     },
     "output_type": "display_data"
    }
   ],
   "source": [
    "conteosDF.display()"
   ]
  },
  {
   "cell_type": "markdown",
   "metadata": {
    "application/vnd.databricks.v1+cell": {
     "cellMetadata": {},
     "inputWidgets": {},
     "nuid": "c8760ec4-d3f0-483e-a271-a36b5aff3964",
     "showTitle": false,
     "title": ""
    }
   },
   "source": [
    "### ¿Y si quisiéramos mostrar el número de valores solamente de aquellas columnas que sean categóricas?\n",
    "\n",
    "La variable interna `dtypes` que tienen todos los DF nos da una lista de parejas de ('nombreColumna', 'tipoDato') con la que podemos filtrar las columnas de tipo string para aplicar la operación de la celda anterior solamente a esas columnas. Hacemos list comprehension y un poco de pattern-matching para extraer directamente los dos campos de cada pareja en el bucle, en lugar de extraer un solo objeto tupla."
   ]
  },
  {
   "cell_type": "code",
   "execution_count": 0,
   "metadata": {
    "application/vnd.databricks.v1+cell": {
     "cellMetadata": {
      "byteLimit": 2048000,
      "rowLimit": 10000
     },
     "inputWidgets": {},
     "nuid": "43367e29-dae3-477d-ae6d-f16af11826cd",
     "showTitle": false,
     "title": ""
    }
   },
   "outputs": [
    {
     "output_type": "display_data",
     "data": {
      "text/html": [
       "<style scoped>\n",
       "  .table-result-container {\n",
       "    max-height: 300px;\n",
       "    overflow: auto;\n",
       "  }\n",
       "  table, th, td {\n",
       "    border: 1px solid black;\n",
       "    border-collapse: collapse;\n",
       "  }\n",
       "  th, td {\n",
       "    padding: 5px;\n",
       "  }\n",
       "  th {\n",
       "    text-align: left;\n",
       "  }\n",
       "</style><div class='table-result-container'><table class='table-result'><thead style='background-color: white'><tr><th>Origin</th><th>OriginCity</th><th>Dest</th><th>DestCity</th><th>ArrDelay</th><th>CancellationCode</th></tr></thead><tbody><tr><td>356</td><td>350</td><td>356</td><td>350</td><td>1377</td><td>5</td></tr></tbody></table></div>"
      ]
     },
     "metadata": {
      "application/vnd.databricks.v1+output": {
       "addedWidgets": {},
       "aggData": [],
       "aggError": "",
       "aggOverflow": false,
       "aggSchema": [],
       "aggSeriesLimitReached": false,
       "aggType": "",
       "arguments": {},
       "columnCustomDisplayInfos": {},
       "data": [
        [
         356,
         350,
         356,
         350,
         1377,
         5
        ]
       ],
       "datasetInfos": [],
       "dbfsResultPath": null,
       "isJsonSchema": true,
       "metadata": {},
       "overflow": false,
       "plotOptions": {
        "customPlotOptions": {},
        "displayType": "table",
        "pivotAggregation": null,
        "pivotColumns": null,
        "xColumns": null,
        "yColumns": null
       },
       "removedWidgets": [],
       "schema": [
        {
         "metadata": "{}",
         "name": "Origin",
         "type": "\"long\""
        },
        {
         "metadata": "{}",
         "name": "OriginCity",
         "type": "\"long\""
        },
        {
         "metadata": "{}",
         "name": "Dest",
         "type": "\"long\""
        },
        {
         "metadata": "{}",
         "name": "DestCity",
         "type": "\"long\""
        },
        {
         "metadata": "{}",
         "name": "ArrDelay",
         "type": "\"long\""
        },
        {
         "metadata": "{}",
         "name": "CancellationCode",
         "type": "\"long\""
        }
       ],
       "type": "table"
      }
     },
     "output_type": "display_data"
    }
   ],
   "source": [
    "def df_conteos_categoricas(sparkDF):\n",
    "    tipos = sparkDF.dtypes\n",
    "    colsRecuento = [F.countDistinct(c).alias(c) for (c, tipo) in sparkDF.dtypes if tipo == \"string\"]\n",
    "    return sparkDF.select(colsRecuento)\n",
    "\n",
    "conteosCategoricasDF = df_conteos_categoricas(flightsDF)\n",
    "conteosCategoricasDF.display()"
   ]
  },
  {
   "cell_type": "markdown",
   "metadata": {
    "application/vnd.databricks.v1+cell": {
     "cellMetadata": {},
     "inputWidgets": {},
     "nuid": "53f28689-0568-4447-9cd7-d6af0b3da582",
     "showTitle": false,
     "title": ""
    }
   },
   "source": [
    "### Crear una nueva columna o reemplazar una existente por el resultado de operar con columnas existentes"
   ]
  },
  {
   "cell_type": "markdown",
   "metadata": {
    "application/vnd.databricks.v1+cell": {
     "cellMetadata": {},
     "inputWidgets": {},
     "nuid": "cb74974d-224a-4ece-91f7-4e1bc392b714",
     "showTitle": false,
     "title": ""
    }
   },
   "source": [
    "Tenemos las distancias en millas. Vamos a convertirlas a km multiplicando las millas por 1.61. De nuevo, cada nodo del cluster hará esta operación localmente con los datos que se encuentran en ese nodo. El DataFrame resultante estará repartido en los mismos nodos. **No hay movimiento de datos ya que no se necesita ninguna información que no esté presente en ese nodo** para efectuar la operación."
   ]
  },
  {
   "cell_type": "code",
   "execution_count": 0,
   "metadata": {
    "application/vnd.databricks.v1+cell": {
     "cellMetadata": {},
     "inputWidgets": {},
     "nuid": "8c55dea5-5574-4adb-aaef-ed63786c85bd",
     "showTitle": false,
     "title": ""
    }
   },
   "outputs": [],
   "source": [
    "# withColumn is a transformation returing a new DataFrame with one extra column appended on the right\n",
    "flightsWithKm = flightsDF.withColumn(\"DistanceKm\", F.col(\"Distance\") * 1.61)\n",
    "\n",
    "flightsWithKm.printSchema()\n",
    "\n",
    "flightsWithKm.show(3)"
   ]
  },
  {
   "cell_type": "markdown",
   "metadata": {
    "application/vnd.databricks.v1+cell": {
     "cellMetadata": {},
     "inputWidgets": {},
     "nuid": "e9cc8bf2-c65e-4247-a2b0-66dfe7500a9d",
     "showTitle": false,
     "title": ""
    }
   },
   "source": [
    "El día de la semana es una variable entera. Utilizar un entero o una variable categórica es una decisión que depende de qué tipo de modelo vayamos a ajustar. ¿Tiene sentido considerar días de la semana \"más grandes\" o \"más pequeños\", es decir, algo que se incrementa conforme \"se incrementa\" el día de la semana de 1 a 7? Aquí vamos a **reemplazar** la columna `DayOfWeek` que ya existía, por una versión categórica como strings. Utilizamos `withColumn` pasándole como primer argumento el nombre de una columna que ya existe, lo cual indica que queremos reemplazarla, en el mismo lugar que ocupaba."
   ]
  },
  {
   "cell_type": "code",
   "execution_count": 0,
   "metadata": {
    "application/vnd.databricks.v1+cell": {
     "cellMetadata": {},
     "inputWidgets": {},
     "nuid": "52f9aead-4304-4170-b745-ca968f02484f",
     "showTitle": false,
     "title": ""
    }
   },
   "outputs": [],
   "source": [
    "flightsCategoricalDay = flightsDF.withColumn(\"DayOfWeek\", F.when(F.col(\"DayOfWeek\") == 1, \"Monday\")\\\n",
    "                                                           .when(F.col(\"DayOfWeek\") == 2, \"Tuesday\")\\\n",
    "                                                           .when(F.col(\"DayOfWeek\") == 3, \"Wednesday\")\\\n",
    "                                                           .when(F.col(\"DayOfWeek\") == 4, \"Thursday\")\\\n",
    "                                                           .when(F.col(\"DayOfWeek\") == 5, \"Friday\")\\\n",
    "                                                           .when(F.col(\"DayOfWeek\") == 6, \"Saturday\")\\\n",
    "                                                           .otherwise(\"Sunday\"))\n",
    "\n",
    "flightsCategoricalDay.printSchema() # the column is still in the same position but has now string type\n",
    "\n",
    "flightsCategoricalDay.select(\"DayOfWeek\", \"DepTime\", \"ArrTime\").show()"
   ]
  },
  {
   "cell_type": "markdown",
   "metadata": {
    "application/vnd.databricks.v1+cell": {
     "cellMetadata": {},
     "inputWidgets": {},
     "nuid": "9f1abccc-cf4f-41ff-939c-2662da5f038f",
     "showTitle": false,
     "title": ""
    }
   },
   "source": [
    "<div class=\"alert alert-block alert-info\">\n",
    "    <b>CONSEJO:</b> El proceso de crear nuevas variables o <i>features</i> a partir de otras existentes, incluso incorporar variables de fuentes de datos externas (datos públicos) y de limpiar o reemplazar variables tras normalizarla se denomina genéricamente <i>feature engineering</i> (ingeniería de variables). A veces tiene mucho que ver con conocimientos específicos del dominio, aunque también con trucos estadísticos para normalizar siguiend métodos bien conocidos.\n",
    "</div>"
   ]
  },
  {
   "cell_type": "markdown",
   "metadata": {
    "application/vnd.databricks.v1+cell": {
     "cellMetadata": {},
     "inputWidgets": {},
     "nuid": "bbe99b3f-def3-40fb-81d0-b27820c68363",
     "showTitle": false,
     "title": ""
    }
   },
   "source": [
    "La función `when` es muy común para re-categorizar una variable o para crear nuevas variables categóricas a partir de condiciones complejas acerca de lo que les ocurre a los valores de otras columnas en esa misma fila."
   ]
  },
  {
   "cell_type": "markdown",
   "metadata": {
    "application/vnd.databricks.v1+cell": {
     "cellMetadata": {},
     "inputWidgets": {},
     "nuid": "357efb9b-b744-4eb8-903d-fa633be7442d",
     "showTitle": false,
     "title": ""
    }
   },
   "source": [
    "<div class=\"alert alert-block alert-success\">\n",
    "<b>TU TURNO</b>: crea una variable categórica de tipo string con dos categorías indicando si el día de la semana es laborable o es fin de semana. Los valores deben ser \"laborable\" o \"finde\". Utiliza `withColumn` y `when`. Será laborable cuando DayOfWeek esté entre 1 y 5, y fin de semana cuando sea 6 o 7 (en resumen: \"en otro caso\" es fin de semana). \n",
    "</div>"
   ]
  },
  {
   "cell_type": "markdown",
   "metadata": {
    "application/vnd.databricks.v1+cell": {
     "cellMetadata": {},
     "inputWidgets": {},
     "nuid": "4ee600eb-61ad-45a1-9ae4-9bcd5d032e8a",
     "showTitle": false,
     "title": ""
    }
   },
   "source": [
    "### Otra posibilidad: utilizar .isin() aplicado al objeto columna para expresar la condición del when"
   ]
  },
  {
   "cell_type": "code",
   "execution_count": 0,
   "metadata": {
    "application/vnd.databricks.v1+cell": {
     "cellMetadata": {},
     "inputWidgets": {},
     "nuid": "d09269c3-f6f6-4da2-afdd-56f50abc7135",
     "showTitle": false,
     "title": ""
    }
   },
   "outputs": [],
   "source": [
    "flightsCategoricalDay = flightsCategoricalDay.withColumn(\"TypeOfDay\", \n",
    "                            F.when(~(F.col(\"DayOfWeek\").isin({'Saturday','Sunday'})), \"laborable\")\\\n",
    "                             .otherwise(\"finde\"))\n",
    "flightsCategoricalDay.show(3) "
   ]
  },
  {
   "cell_type": "code",
   "execution_count": 0,
   "metadata": {
    "application/vnd.databricks.v1+cell": {
     "cellMetadata": {},
     "inputWidgets": {},
     "nuid": "447cccbd-a327-4324-ac8d-fbbfc31f07f0",
     "showTitle": false,
     "title": ""
    }
   },
   "outputs": [],
   "source": [
    "findeDF = flightsDF.withColumn(\"finde\", F.when(F.col(\"DayOfWeek\") <= 5, \"laborable\")\\\n",
    "                                         .otherwise(\"finde\"))"
   ]
  },
  {
   "cell_type": "markdown",
   "metadata": {
    "application/vnd.databricks.v1+cell": {
     "cellMetadata": {},
     "inputWidgets": {},
     "nuid": "ed4f820e-4fc9-48ea-bbee-d2648ddfd389",
     "showTitle": false,
     "title": ""
    }
   },
   "source": [
    "### Para reemplazamientos usando un solo diccionario, que tenga {'categoríaOriginal': 'nuevoValor'}. Ese diccionario puede haberse leído de algún fichero o similar\n",
    "\n",
    "Si en un momento dado, se decide un cambio de nombres para una variable (recategorización completa), podemos llevarla a cabo de manera limpia si conseguimos (o creamos) un diccionario con todos los renombramientos, en el formato (nombre_antiguo, nombre_nuevo). Podemos crear una columna de tipo diccionario con `F.create_map` a partir de una lista de columnas donde se interpretan los valores como parejas, es decir, `F.create_map([\"c1\", \"c2\", \"c3\", \"c4\"])` se interpreta como que la asociación (clave, valor) es (c1, c2) y (c3, c4). Una vez creado el objeto Column diccionario, se puede indexar sobre él pasándole una columna de claves, y devolverá la columna de valores asociados."
   ]
  },
  {
   "cell_type": "code",
   "execution_count": 0,
   "metadata": {
    "application/vnd.databricks.v1+cell": {
     "cellMetadata": {},
     "inputWidgets": {},
     "nuid": "c81abb16-9cd3-499e-8686-ec0fc4192ffb",
     "showTitle": false,
     "title": ""
    }
   },
   "outputs": [],
   "source": [
    "from pyspark.sql import functions as F\n",
    "from itertools import chain\n",
    "\n",
    "equivalencias = {\n",
    "    'LAX': 'LosAngeles', \n",
    "    'SFO': 'SanFrancisco'\n",
    "}\n",
    "\n",
    "mapping_expr = F.create_map([F.lit(x) for x in chain(*equivalencias.items())]) # creamos una columna de tipo diccionario\n",
    "\n",
    "# Ahora utilizamos esa columna de diccionario, pidiéndole los elementos asociados a las claves que indica la columna Origin \n",
    "# (que son las categorías originales). Por tanto nos devolverá otra nueva columna con todos los valores asociados a dichas claves, fila a fila\n",
    "flightsDF.withColumn(\"OriginRecat\", mapping_expr.getItem(F.col(\"Origin\")))\\\n",
    "         .select(\"Origin\", \"OriginRecat\").distinct().show()"
   ]
  },
  {
   "cell_type": "markdown",
   "metadata": {
    "application/vnd.databricks.v1+cell": {
     "cellMetadata": {},
     "inputWidgets": {},
     "nuid": "66292207-d1e7-4879-a7fb-c93f34a8d58d",
     "showTitle": false,
     "title": ""
    }
   },
   "source": [
    "### Convertir el tipo de dato de una columna\n",
    "\n",
    "Con frecuencia, Spark no infiere correctamente el tipo de cada columna. \n",
    "* A veces ocurre que una columna numérica no se reconozca adecuadamente porque algunas celdas tienen algún string extraño, como \"NA\" que quería significar data faltante en el dataset original. \"NA\" no es un string especial para Spark, por lo que simplemente reconoce que la columna tiene tanto enteros como strings, y el tipo más general que infiere es string para esa columna. \n",
    "* Pero no es el caso aquí porque no se da esto, y por eso hemos ensuciado al principio los datos a propósito. Vamos a limpiarlos y a convertir la columna `ArrDelay` a DoubleType como debe ser."
   ]
  },
  {
   "cell_type": "code",
   "execution_count": 0,
   "metadata": {
    "application/vnd.databricks.v1+cell": {
     "cellMetadata": {},
     "inputWidgets": {},
     "nuid": "f596735b-d4ab-4fe2-97b7-36f94b45cdd0",
     "showTitle": false,
     "title": ""
    }
   },
   "outputs": [],
   "source": [
    "naCount = flightsDF.where(\"ArrDelay = 'NA'\").count()\n",
    "\n",
    "# Esto es sintaxis SQL, pero también podríamos haberla llamado como .where(F.col(\"ArrDelay\") == \"NA\"). Ambas son equivalentes.\n",
    "\n",
    "print(\"Hay \", naCount, \"filas con NA en ArrDelay\")"
   ]
  },
  {
   "cell_type": "code",
   "execution_count": 0,
   "metadata": {
    "application/vnd.databricks.v1+cell": {
     "cellMetadata": {},
     "inputWidgets": {},
     "nuid": "a31c1a5f-d352-402e-a31d-6a098291758e",
     "showTitle": false,
     "title": ""
    }
   },
   "outputs": [],
   "source": [
    "#from pyspark.sql.types import DoubleType\n",
    "from pyspark.sql import types as T\n",
    "\n",
    "flightsDF = flightsDF.where((F.col(\"ArrDelay\") != \"NA\"))\\\n",
    "                     .withColumn(\"ArrDelay\", F.col(\"ArrDelay\").cast(T.DoubleType()))"
   ]
  },
  {
   "cell_type": "markdown",
   "metadata": {
    "application/vnd.databricks.v1+cell": {
     "cellMetadata": {},
     "inputWidgets": {},
     "nuid": "b4d9ad15-88a9-4f6a-9946-133a4c49572c",
     "showTitle": false,
     "title": ""
    }
   },
   "source": [
    "### Ordenación respecto a una columna"
   ]
  },
  {
   "cell_type": "markdown",
   "metadata": {
    "application/vnd.databricks.v1+cell": {
     "cellMetadata": {},
     "inputWidgets": {},
     "nuid": "b0ac1079-59f4-4671-8fb8-ff0812109c12",
     "showTitle": false,
     "title": ""
    }
   },
   "source": [
    "Es una transformación que nos devuelve otro DataFrame ordenado según la(s) columna(s) indicada(s), sea de forma ascendente o descendente. El DataFrame original no se modifica (al igual que ocurre en cualquier transformación). Se puede ordenar en base a una columna numérica (lo más frecuente) o también categórica (los strings se ordenan alfabéticamente). Para ordenar sí es necesario enviar información de unos nodos a otros puesto que no sabemos si existen o no datos mayores o menos que el valor que tenemos en el nodo (o más precisamente, en el worker)."
   ]
  },
  {
   "cell_type": "code",
   "execution_count": 0,
   "metadata": {
    "application/vnd.databricks.v1+cell": {
     "cellMetadata": {},
     "inputWidgets": {},
     "nuid": "bc243c85-9608-4dcc-bf3b-27537e040ac9",
     "showTitle": false,
     "title": ""
    }
   },
   "outputs": [],
   "source": [
    "# Ordenamos los vuelos según ArrDelay\n",
    "sortedDF = flightsDF.orderBy(\"ArrDelay\")  # equivalente: flightsDF.orderBy(F.col(\"ArrDelay\"))\n",
    "\n",
    "# Orden ascendentemente por aeropuerto de origen (\"Origin\") y deshago los empates por arr_delay descendentemente\n",
    "sortedDF = flightsDF.orderBy(F.col(\"Origin\"), F.col(\"ArrDelay\").desc())  # equivalente: flightsDF.orderBy(F.col(\"ArrDelay\"))\n",
    "\n",
    "sortedDescDF = flightsDF.orderBy(\"ArrDelay\", ascending = False)\n",
    "sortedDescDF.select(\"ArrDelay\", \"Origin\", \"Dest\").show(10)"
   ]
  },
  {
   "cell_type": "markdown",
   "metadata": {
    "application/vnd.databricks.v1+cell": {
     "cellMetadata": {},
     "inputWidgets": {},
     "nuid": "3db1d6e3-9d56-4cc9-a36a-a5982ac68da1",
     "showTitle": false,
     "title": ""
    }
   },
   "source": [
    "### Traemos una sola fila al driver como objeto Row y accedemos a los campos con el operador '.' o bien con  `[]`\n",
    "\n",
    "Un DataFrame de Spark encapsula a un RDD de objetos de la clase `spark.sql.Row`. Las acciones como `take(n)`, `first()`, `collect()`, etc devuelven una lista de Python de objetos Row o bien un objeto Row, que podemos entender como una tupla cuyos campos tienen nombre, además del valor. Podemos acceder a cada uno de los campos con el operador '.' y el nombre del campo, o con el operador `[\"campo\"]`. Si usamos [] podemos indicar el nombre del campo en una variable, como `[nombre_campo]`. Un objeto Row puede convertirse en un diccionario de Python con el método `asDict()`"
   ]
  },
  {
   "cell_type": "code",
   "execution_count": 0,
   "metadata": {
    "application/vnd.databricks.v1+cell": {
     "cellMetadata": {},
     "inputWidgets": {},
     "nuid": "ec35a02b-c58b-481e-b670-242c1eda2cb8",
     "showTitle": false,
     "title": ""
    }
   },
   "outputs": [],
   "source": [
    "primeraFila = sortedDescDF.first()"
   ]
  },
  {
   "cell_type": "code",
   "execution_count": 0,
   "metadata": {
    "application/vnd.databricks.v1+cell": {
     "cellMetadata": {},
     "inputWidgets": {},
     "nuid": "d772afd4-3a70-4a41-8532-a83695fdff17",
     "showTitle": false,
     "title": ""
    }
   },
   "outputs": [],
   "source": [
    "primeraFila.ArrTime"
   ]
  },
  {
   "cell_type": "code",
   "execution_count": 0,
   "metadata": {
    "application/vnd.databricks.v1+cell": {
     "cellMetadata": {},
     "inputWidgets": {},
     "nuid": "4e009b08-2f2d-4cf3-9234-6ac876a84727",
     "showTitle": false,
     "title": ""
    }
   },
   "outputs": [],
   "source": [
    "primeraFila.asDict()"
   ]
  },
  {
   "cell_type": "code",
   "execution_count": 0,
   "metadata": {
    "application/vnd.databricks.v1+cell": {
     "cellMetadata": {},
     "inputWidgets": {},
     "nuid": "304c12f1-9d69-4a7e-b242-54ab65647917",
     "showTitle": false,
     "title": ""
    }
   },
   "outputs": [],
   "source": [
    "listaRows = sortedDescDF.take(20)  # devuelve una lista de Python, de objetos Row\n",
    "distancias = [r.Distance for r in listaRows]  # usamos sintaxis de listas por comprensión\n",
    "distancias"
   ]
  },
  {
   "cell_type": "code",
   "execution_count": 0,
   "metadata": {
    "application/vnd.databricks.v1+cell": {
     "cellMetadata": {},
     "inputWidgets": {},
     "nuid": "a4027fc9-a246-47b2-9b1b-8abed2e49524",
     "showTitle": false,
     "title": ""
    }
   },
   "outputs": [],
   "source": [
    "listaLAX = flightsDF.where(\"Origin = 'LAX'\").collect() # ¡¡¡¡ CUIDADO !!!!\n",
    "len(listaLAX)"
   ]
  },
  {
   "cell_type": "code",
   "execution_count": 0,
   "metadata": {
    "application/vnd.databricks.v1+cell": {
     "cellMetadata": {},
     "inputWidgets": {},
     "nuid": "c21becb8-5936-4e0f-be8e-3caaa1e8a49f",
     "showTitle": false,
     "title": ""
    }
   },
   "outputs": [],
   "source": [
    "listaLAX[0:4]"
   ]
  },
  {
   "cell_type": "markdown",
   "metadata": {
    "application/vnd.databricks.v1+cell": {
     "cellMetadata": {},
     "inputWidgets": {},
     "nuid": "8823161e-8ad7-4c43-a670-c0c3c24f9b4e",
     "showTitle": false,
     "title": ""
    }
   },
   "source": [
    "### Funciones de agregación sobre el DataFrame completo"
   ]
  },
  {
   "cell_type": "markdown",
   "metadata": {
    "application/vnd.databricks.v1+cell": {
     "cellMetadata": {},
     "inputWidgets": {},
     "nuid": "ae1aca6f-bd3b-4bbe-bcbf-a4fc184533eb",
     "showTitle": false,
     "title": ""
    }
   },
   "source": [
    "Spark tiene implementaciones distribuidas y paralelas de funciones de agregación frecuentes como la media, min, max y desviación típica entre otras. Todas estas funciones reciben como argumento el objeto columna sobre el que la función debe aplicarse. Lo más habitual es aplicarlas para agregar por grupos, pero esto lo veremos en el segundo notebook."
   ]
  },
  {
   "cell_type": "markdown",
   "metadata": {
    "application/vnd.databricks.v1+cell": {
     "cellMetadata": {},
     "inputWidgets": {},
     "nuid": "f6b7714c-c24f-421d-bbcb-cb565b18285c",
     "showTitle": false,
     "title": ""
    }
   },
   "source": [
    "Vamos a seleccionar vuelos con `ArrDelay` mayor de 15 minutos, y con ellos vamos a crear columnas con el min, max, media y desviación típica de la columna `ArrDelay`. Crearemos y seleccionaremos dichas columnas al vuelo, como vimos en la sección anterior.\n",
    "\n",
    "Recuerda que **todas las operaciones pyspark.sql.functions** que se aplican a un objeto Column y devuelven un nuevo objeto Column **son distribuidas**. Se ejecutan en los executors, y cada executor aplica la función sobre las particiones de DataFrame (es decir, sobre los subconjuntos de filas) que tiene."
   ]
  },
  {
   "cell_type": "code",
   "execution_count": 0,
   "metadata": {
    "application/vnd.databricks.v1+cell": {
     "cellMetadata": {},
     "inputWidgets": {},
     "nuid": "0490dab2-f743-4f3f-b071-bd58eae2065b",
     "showTitle": false,
     "title": ""
    }
   },
   "outputs": [],
   "source": [
    "flightsDF.printSchema()"
   ]
  },
  {
   "cell_type": "code",
   "execution_count": 0,
   "metadata": {
    "application/vnd.databricks.v1+cell": {
     "cellMetadata": {},
     "inputWidgets": {},
     "nuid": "41d8ab13-5a6c-43fa-ac35-8844444e22a8",
     "showTitle": false,
     "title": ""
    }
   },
   "outputs": [],
   "source": [
    "flightsDF.count()"
   ]
  },
  {
   "cell_type": "code",
   "execution_count": 0,
   "metadata": {
    "application/vnd.databricks.v1+cell": {
     "cellMetadata": {},
     "inputWidgets": {},
     "nuid": "8c1c4ff1-0caf-4636-b8d7-eef46e2d9cc6",
     "showTitle": false,
     "title": ""
    }
   },
   "outputs": [],
   "source": [
    "# First we select those flights with at least 16 minutes of delay and then compute the aggregations\n",
    "agregacionesDF = flightsDF.where(F.col(\"ArrDelay\") > 15)\\\n",
    "                          .select(F.min(\"ArrDelay\").alias(\"minDelay\"),\n",
    "                                  F.max(\"ArrDelay\").alias(\"maxDelay\"),\n",
    "                                  F.mean(\"ArryDelay\").alias(\"meanDelay\"),\n",
    "                                  F.variance(\"ArrDelay\").alias(\"varArrDelay\"))\n",
    "\n",
    "agregacionesDF.show()"
   ]
  },
  {
   "cell_type": "markdown",
   "metadata": {
    "application/vnd.databricks.v1+cell": {
     "cellMetadata": {},
     "inputWidgets": {},
     "nuid": "a2dc7ec0-494d-4ab9-b673-2929e4996c7f",
     "showTitle": false,
     "title": ""
    }
   },
   "source": [
    "Existe una función de Spark que hace casi todo esto por nosotros, llamada `summary`. Lo hace para cada columna numérica que encuentre en el dataset. Es también una transformación que devuelve un nuevo DataFrame con las métricas de resumen, sin modificar el DataFrame original."
   ]
  },
  {
   "cell_type": "code",
   "execution_count": 0,
   "metadata": {
    "application/vnd.databricks.v1+cell": {
     "cellMetadata": {},
     "inputWidgets": {},
     "nuid": "555894cb-1ae5-4723-9b0c-c7ab82a1f8e6",
     "showTitle": false,
     "title": ""
    }
   },
   "outputs": [],
   "source": [
    "summariesDF = flightsDF.summary().cache()\n",
    "summariesDF.show()"
   ]
  },
  {
   "cell_type": "code",
   "execution_count": 0,
   "metadata": {
    "application/vnd.databricks.v1+cell": {
     "cellMetadata": {},
     "inputWidgets": {},
     "nuid": "f1b5de4f-7815-436c-9f9c-2a00dda1b2ae",
     "showTitle": false,
     "title": ""
    }
   },
   "outputs": [],
   "source": [
    "summariesDF.printSchema()"
   ]
  },
  {
   "cell_type": "code",
   "execution_count": 0,
   "metadata": {
    "application/vnd.databricks.v1+cell": {
     "cellMetadata": {},
     "inputWidgets": {},
     "nuid": "cfcba827-74eb-49c5-aaa7-2ab8b992bd81",
     "showTitle": false,
     "title": ""
    }
   },
   "outputs": [],
   "source": [
    "print(summariesDF.count()) # vamos a contar el número de filas del DF resumen"
   ]
  },
  {
   "cell_type": "markdown",
   "metadata": {
    "application/vnd.databricks.v1+cell": {
     "cellMetadata": {},
     "inputWidgets": {},
     "nuid": "a434e8ff-1e03-4aeb-bd62-deeb403c61fd",
     "showTitle": false,
     "title": ""
    }
   },
   "source": [
    "### Conversión a Pandas\n",
    "\n",
    "En general es complicado leer los resultados que muestra Spark. En ocasiones interesa convertirlos a un dataframe de Pandas, aunque esto implica traer todas las filas al driver, lo cual **debe hacerse con mucho cuidado y solo en casos en los que estemos seguros de que el DataFrame de Spark es pequeño y no desbordará la memoria del driver**."
   ]
  },
  {
   "cell_type": "markdown",
   "metadata": {
    "application/vnd.databricks.v1+cell": {
     "cellMetadata": {
      "byteLimit": 2048000,
      "rowLimit": 10000
     },
     "inputWidgets": {},
     "nuid": "640872fe-404f-410c-b9a2-8a71a7ae6898",
     "showTitle": false,
     "title": ""
    }
   },
   "source": [
    "\n",
    "**RECUERDA**: el concepto de dataframe como tabla con filas y columnas existe en muchos lenguajes de programación (pandas de Python, dataframes de R, DataFrames de Spark). Sin embargo, Spark maneja DataFrames que están físicamente distribuidos en las memorias RAM de las máquinas del cluster, lo cual no tiene nada que ver con lo que hace la biblioteca Pandas o R que se ejecutan en una sola máquina. Convertir un DataFrame de Spark en un dataframe de Pandas implica llevar todas las filas al driver, lo cual podría resultar en una excepción Out-of-Memory si el contenido del DataFrame es más grande que la memoria RAM de la máquina en la que se está ejecutando el programa driver. En este caso y en la mayoría de casos, se suele utilizar para mostrar resúmenes o agregados ya calculados previamente, y que sabemos que ocupan poco, con lo que no existe riesgo. Por supuesto, desde el momento en que generamos un objeto de tipo Pandas con la función `toPandas()` de Spark, el DataFrame de pandas obtenido existe exclusivamente en el Driver, y ya no tendrá ninguna relación con Spark y por tanto, se tendrá que manejar exclusivamente con la API de pandas, lo que implica que todas las operaciones se realizan en el intérprete de Python del Driver (una sola máquina por tanto).\n",
    "\n",
    "Esta operación también es muy frecuente cuando queremos representar gráficamente el contenido de un DataFrame de Spark. No existen funciones gráficas en Spark, por lo que tenemos que convertirlo en un dataframe de Pandas y utilizar los paquetes gráficos de Python habituales (matplotlib, Seaborn, plotly o incluso la propia biblioteca Pandas) para mostrar lo que necesitemos.\n",
    "\n",
    "#### Pandas on Spark\n",
    "\n",
    "Esta funcionalidad será cubierta en el último tema, dedicado a conceptos avanzados. A diferencia de lo que vamos a hacer en el ejemplo de debajo, el subpaquete `pyspark.pandas` no convierte un DataFrame de Spark en un DataFrame de Pandas en el driver, sino que simplemente permite manejar DataFrames de Spark (distribuidos) utilizando una API casi idéntica a la de Pandas. Simplemente nos ahorra tener que aprender la API propia de DataFrames de pyspark si ya estamos habituados a la API de Pandas. No obstante, lo habitual en la mayoría de empresas que utilizan Spark es que sus flujos de datos estén expresados con la API tradicional de pyspark, con lo que resulta más práctico aprender dicha API en lugar de pyspark.pandas que son mucho más recientes y están todavía poco extendidos.\n"
   ]
  },
  {
   "cell_type": "code",
   "execution_count": 0,
   "metadata": {
    "application/vnd.databricks.v1+cell": {
     "cellMetadata": {},
     "inputWidgets": {},
     "nuid": "e002441d-fbb4-406b-85ee-bef47afecb73",
     "showTitle": false,
     "title": ""
    }
   },
   "outputs": [],
   "source": [
    "summariesDF.is_cached"
   ]
  },
  {
   "cell_type": "code",
   "execution_count": 0,
   "metadata": {
    "application/vnd.databricks.v1+cell": {
     "cellMetadata": {},
     "inputWidgets": {},
     "nuid": "d212e273-ef8f-4e4b-96cb-2c860191a68b",
     "showTitle": false,
     "title": ""
    }
   },
   "outputs": [],
   "source": [
    "flightsPd = summariesDF.toPandas()"
   ]
  },
  {
   "cell_type": "code",
   "execution_count": 0,
   "metadata": {
    "application/vnd.databricks.v1+cell": {
     "cellMetadata": {},
     "inputWidgets": {},
     "nuid": "9b28a245-f90c-4365-9039-24fb9458e694",
     "showTitle": false,
     "title": ""
    }
   },
   "outputs": [],
   "source": [
    "flightsPd"
   ]
  },
  {
   "cell_type": "code",
   "execution_count": 0,
   "metadata": {
    "application/vnd.databricks.v1+cell": {
     "cellMetadata": {},
     "inputWidgets": {},
     "nuid": "53181f5e-103a-4293-b3b0-3b2faf1507bf",
     "showTitle": false,
     "title": ""
    }
   },
   "outputs": [],
   "source": [
    "otroDF = spark.createDataFrame(flightsPd)"
   ]
  }
 ],
 "metadata": {
  "application/vnd.databricks.v1+notebook": {
   "dashboards": [],
   "language": "python",
   "notebookMetadata": {
    "pythonIndentUnit": 4
   },
   "notebookName": "DataFrames operaciones básicas",
   "widgets": {}
  },
  "kernelspec": {
   "display_name": "Python 3 (ipykernel)",
   "language": "python",
   "name": "python3"
  },
  "language_info": {
   "codemirror_mode": {
    "name": "ipython",
    "version": 3
   },
   "file_extension": ".py",
   "mimetype": "text/x-python",
   "name": "python",
   "nbconvert_exporter": "python",
   "pygments_lexer": "ipython3",
   "version": "3.8.16"
  }
 },
 "nbformat": 4,
 "nbformat_minor": 0
}
