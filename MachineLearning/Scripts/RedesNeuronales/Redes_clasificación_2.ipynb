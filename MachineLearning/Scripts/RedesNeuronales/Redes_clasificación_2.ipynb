{
 "cells": [
  {
   "cell_type": "code",
   "execution_count": 4,
   "id": "a37c26a0",
   "metadata": {},
   "outputs": [],
   "source": [
    "#importar las librerías necesarias\n",
    "import numpy as np\n",
    "import pandas as pd\n",
    "import matplotlib.pyplot as plt\n",
    "from sklearn.tree import plot_tree\n",
    "import seaborn as sns\n",
    "import plotly.graph_objects as go\n",
    "from sklearn.compose import ColumnTransformer\n",
    "from sklearn.preprocessing import MinMaxScaler, StandardScaler, Normalizer, Binarizer, RobustScaler, label_binarize\n",
    "from sklearn.preprocessing import OneHotEncoder, LabelEncoder, PowerTransformer\n",
    "from sklearn.neural_network import MLPClassifier, MLPRegressor\n",
    "from sklearn.tree import DecisionTreeClassifier, export_text, DecisionTreeRegressor\n",
    "from sklearn.model_selection import train_test_split, GridSearchCV\n",
    "from sklearn.metrics import accuracy_score, confusion_matrix, classification_report\n",
    "from sklearn.model_selection import cross_val_score\n",
    "from sklearn.metrics import confusion_matrix, classification_report, accuracy_score, precision_score, recall_score, f1_score, roc_auc_score, roc_curve, auc\n",
    "from sklearn.metrics import make_scorer, mean_absolute_error, mean_squared_error, r2_score"
   ]
  },
  {
   "cell_type": "code",
   "execution_count": 5,
   "id": "fccd7dd0",
   "metadata": {},
   "outputs": [
    {
     "name": "stdout",
     "output_type": "stream",
     "text": [
      "\n",
      " Instancias: 462; Variables: 10\n",
      "\n",
      "La frecuencia de cada clase es: \n",
      "No    302\n",
      "Si    160\n",
      "Name: chd, dtype: int64\n"
     ]
    }
   ],
   "source": [
    "seed=12345 #fijamos la semilla de aleatorización para que sea la misma en todo el proceso\n",
    "#Reemplaza con la ruta correcta y nombre de tu archivo\n",
    "file_path = 'C:/Users/user/OneDrive - Universidad Complutense de Madrid (UCM)/Documentos/Titulo Propio/Machine Learning/Redes Neuronales/Python/SAheart.csv' \n",
    "#convertir a data frame el archivo\n",
    "df = pd.read_csv(file_path)\n",
    "#La variable de interés es chd, binaria Si/No\n",
    "#analizamos la frecuencia de cada clase\n",
    "print(f'\\n Instancias: {df.shape[0]}; Variables: {df.shape[1]}')\n",
    "print(f'\\nLa frecuencia de cada clase es: \\n{df.chd.value_counts()}')"
   ]
  },
  {
   "cell_type": "code",
   "execution_count": 6,
   "id": "65b0b337",
   "metadata": {
    "scrolled": true
   },
   "outputs": [],
   "source": [
    "# Si se quiere categorizar la variable de respuesta (útil cuando tiene 1/0)\n",
    "#df['chd'] = df['chd'].apply(lambda x: 'Yes' if x == 1 else 'No')\n",
    "#en nuestro caso, cambiamos Si por Yes\n",
    "df['chd'] = df['chd'].apply(lambda x: 'Yes' if x == 'Si' else 'No')"
   ]
  },
  {
   "cell_type": "code",
   "execution_count": 7,
   "id": "e0fadf64",
   "metadata": {},
   "outputs": [
    {
     "data": {
      "text/plain": [
       "sbp          0\n",
       "tobacco      0\n",
       "ldl          0\n",
       "adiposity    0\n",
       "famhist      0\n",
       "typea        0\n",
       "obesity      0\n",
       "alcohol      0\n",
       "age          0\n",
       "chd          0\n",
       "dtype: int64"
      ]
     },
     "execution_count": 7,
     "metadata": {},
     "output_type": "execute_result"
    }
   ],
   "source": [
    "# hay valores perdidos?\n",
    "df.isna().sum()"
   ]
  },
  {
   "cell_type": "markdown",
   "id": "c994e857",
   "metadata": {},
   "source": [
    "Preparamos la base de datos para la aplicación de redes neuronales:\n",
    "\n",
    "    - Estandarizar/normalizar variables continuas\n",
    "    - Convertir a dummies las variables categóricas\n",
    "    - Evitar missing"
   ]
  },
  {
   "cell_type": "code",
   "execution_count": 8,
   "id": "6518a0c7",
   "metadata": {},
   "outputs": [],
   "source": [
    "# organiza las variables según su rol y naturaleza\n",
    "# determina variable objetivo\n",
    "target = \"chd\"\n",
    "#hacer una lista con las variables input numericas\n",
    "num_cols = ['sbp', 'tobacco', 'ldl', 'adiposity', 'typea', 'obesity', 'alcohol', 'age']\n",
    "#hacer una lista con las variables input categóricas\n",
    "cat_cols = ['famhist']"
   ]
  },
  {
   "cell_type": "code",
   "execution_count": 9,
   "id": "3184713a",
   "metadata": {},
   "outputs": [],
   "source": [
    "#Convertir a dummies las categóricas\n",
    "#solo hay una variable categórica, transformación fácil\n",
    "df[['famhist']] = pd.get_dummies(df[['famhist']],drop_first=True)\n",
    "#otra opción\n",
    "cat_cols = ColumnTransformer(transformers=[ ('ohe', OneHotEncoder(drop='first'), cat_cols)], \n",
    "                                                  remainder='passthrough')\n"
   ]
  },
  {
   "cell_type": "code",
   "execution_count": 10,
   "id": "bea939c8",
   "metadata": {},
   "outputs": [],
   "source": [
    "#Normalizar variables numericas\n",
    "#Si se quisieran estandarizar, scaler=StandardScaler()\n",
    "scaler = MinMaxScaler() #selecciona el transformador\n",
    "X = df[num_cols] #selecciona las variables numéricas que se quieren transformar y las guarda en un nuevo dataframe\n",
    "X_scale = pd.DataFrame(scaler.fit_transform(X)) #guarda el resultado de la transformación de las variables de X en X_scale\n",
    "X_scale.columns = X.columns #para simplificar los nombres, asigna a las columnas de X_scale los nombres de las variables de X_num\n",
    "df[num_cols] = X_scale"
   ]
  },
  {
   "cell_type": "markdown",
   "id": "369a6fba",
   "metadata": {},
   "source": [
    "`GridSearchCV` es una función de la biblioteca scikit-learn que se utiliza para realizar una búsqueda exhaustiva sobre un conjunto especificado de hiperparámetros para un modelo de aprendizaje automático. La idea es probar todas las combinaciones posibles de hiperparámetros especificados en una cuadrícula y seleccionar la combinación que ofrece el mejor rendimiento según una métrica determinada.\n",
    "\n",
    "1. **Definición del Modelo:** Se selecciona un modelo junto con un conjunto de hiperparámetros para optimizar. Los hiperparámetros son configuraciones ajustables que afectan el rendimiento y el comportamiento del modelo.\n",
    "\n",
    "2. **Definición de la Cuadrícula/Rejilla de Parámetros:** Se especifican los valores posibles para cada hiperparámetro que se desea ajustar. `GridSearchCV` probará todas las combinaciones posibles de estos valores.\n",
    "\n",
    "3. **División de Datos:** Los datos se dividen en conjuntos de entrenamiento y prueba. Durante la búsqueda de la cuadrícula, el modelo se ajusta a los datos de entrenamiento y se evalúa en el conjunto de prueba.\n",
    "\n",
    "4. **Evaluación del Rendimiento:** Se elige una métrica de evaluación, como precisión, exactitud, F1-score, etc. (¡depende del problema considerado!). Esta métrica se utilizará para evaluar el rendimiento del modelo en cada combinación de hiperparámetros.\n",
    "\n",
    "5. **Búsqueda Exhaustiva:** `GridSearchCV` realiza una búsqueda exhaustiva probando todas las combinaciones posibles de hiperparámetros en la cuadrícula. Ajusta el modelo con cada combinación y evalúa su rendimiento utilizando la métrica especificada.\n",
    "\n",
    "6. **Selección del Mejor Modelo:** Una vez que se han probado todas las combinaciones, `GridSearchCV` selecciona la combinación de hiperparámetros que proporcionó el mejor rendimiento según la métrica elegida.\n",
    "\n",
    "`GridSearchCV` automatiza el proceso de ajuste de hiperparámetros al probar sistemáticamente diferentes combinaciones, lo que facilita la identificación de la configuración óptima para un modelo en particular.\n",
    "\n",
    "`refit` es un parámetro que determina si ajustar o no el estimador final utilizando los mejores hiperparámetros encontrados durante la búsqueda en la cuadrícula.\n",
    "\n",
    "Cuando refit está establecido en True (que es el valor predeterminado), después de completar la búsqueda en la cuadrícula, GridSearchCV ajustará automáticamente el estimador utilizando los mejores hiperparámetros encontrados en todo el conjunto de datos de entrenamiento.\n",
    "\n",
    "**IMPORTANTE** el valor añadido de un analista es encontrar el equilibrio entre la calidad del modelo y su complejidad, las necesidades y requerimientos de cada problema, el mantenimiento y cuidado que se le podrá prestar al modelo, etc. Limitarse al \"mejor modelo\" propocionado por GridSearchCV sería nuestro final como analistas. Es IMPRESCINDIBLE ir más allá de la parametrización que optimiza numéricamente la medida de bondad escogida."
   ]
  },
  {
   "cell_type": "code",
   "execution_count": 16,
   "id": "a13062b1",
   "metadata": {},
   "outputs": [
    {
     "name": "stderr",
     "output_type": "stream",
     "text": [
      "C:\\Users\\user\\anaconda3\\lib\\site-packages\\sklearn\\neural_network\\_multilayer_perceptron.py:692: ConvergenceWarning: Stochastic Optimizer: Maximum iterations (600) reached and the optimization hasn't converged yet.\n",
      "  warnings.warn(\n",
      "C:\\Users\\user\\anaconda3\\lib\\site-packages\\sklearn\\metrics\\_classification.py:1318: UndefinedMetricWarning: Precision is ill-defined and being set to 0.0 in labels with no predicted samples. Use `zero_division` parameter to control this behavior.\n",
      "  _warn_prf(average, modifier, msg_start, len(result))\n",
      "C:\\Users\\user\\anaconda3\\lib\\site-packages\\sklearn\\metrics\\_classification.py:1318: UndefinedMetricWarning: Precision is ill-defined and being set to 0.0 in labels with no predicted samples. Use `zero_division` parameter to control this behavior.\n",
      "  _warn_prf(average, modifier, msg_start, len(result))\n",
      "C:\\Users\\user\\anaconda3\\lib\\site-packages\\sklearn\\metrics\\_classification.py:1318: UndefinedMetricWarning: Precision is ill-defined and being set to 0.0 in labels with no predicted samples. Use `zero_division` parameter to control this behavior.\n",
      "  _warn_prf(average, modifier, msg_start, len(result))\n"
     ]
    },
    {
     "data": {
      "text/plain": [
       "GridSearchCV(cv=4, estimator=MLPClassifier(),\n",
       "             param_grid={'activation': ['tanh', 'relu'],\n",
       "                         'alpha': [0.001, 0.0001],\n",
       "                         'hidden_layer_sizes': [5, 7, 9], 'max_iter': [600]},\n",
       "             refit='accuracy',\n",
       "             scoring=['accuracy', 'precision_macro', 'recall_macro',\n",
       "                      'f1_macro'])"
      ]
     },
     "execution_count": 16,
     "metadata": {},
     "output_type": "execute_result"
    }
   ],
   "source": [
    "# Tuneo y evaluación predictiva del modelo para variable dependiente continua\n",
    "# El grupo de variables predictoras se define y se fija\n",
    "X = df[['famhist','tobacco','alcohol']] #en X las variables ya están normalizadas y con dummies\n",
    "y = df['chd']\n",
    "X_train, X_test, y_train, y_test = train_test_split(X, y, test_size=0.2, random_state=seed)\n",
    "red = MLPClassifier()\n",
    "#definimos los parámetros que queremos tunear\n",
    "params = {\n",
    "    'max_iter': [600],\n",
    "    'hidden_layer_sizes': [5,7,9],\n",
    "    'activation': ['tanh','relu'],\n",
    "    'alpha': [0.001,0.0001]\n",
    "}\n",
    "scoring_metrics = ['accuracy', 'precision_macro', 'recall_macro', 'f1_macro']\n",
    "# cv = crossvalidation con n folds con todas las combinaciones de parámetros\n",
    "grid_search = GridSearchCV(estimator=red, \n",
    "                           param_grid=params, \n",
    "                           cv=4, scoring = scoring_metrics, refit='accuracy')\n",
    "\n",
    "#ajusta en entrenamiento con todas las combinaciones\n",
    "grid_search.fit(X_train, y_train)"
   ]
  },
  {
   "cell_type": "code",
   "execution_count": 18,
   "id": "5a53937b",
   "metadata": {},
   "outputs": [
    {
     "name": "stdout",
     "output_type": "stream",
     "text": [
      "Resultados de Grid Search:\n",
      "                                               params  mean_test_accuracy  \\\n",
      "0   {'activation': 'tanh', 'alpha': 0.001, 'hidden...            0.712892   \n",
      "1   {'activation': 'tanh', 'alpha': 0.001, 'hidden...            0.718239   \n",
      "2   {'activation': 'tanh', 'alpha': 0.001, 'hidden...            0.710086   \n",
      "3   {'activation': 'tanh', 'alpha': 0.0001, 'hidde...            0.710057   \n",
      "4   {'activation': 'tanh', 'alpha': 0.0001, 'hidde...            0.723673   \n",
      "5   {'activation': 'tanh', 'alpha': 0.0001, 'hidde...            0.715521   \n",
      "6   {'activation': 'relu', 'alpha': 0.001, 'hidden...            0.699217   \n",
      "7   {'activation': 'relu', 'alpha': 0.001, 'hidden...            0.704681   \n",
      "8   {'activation': 'relu', 'alpha': 0.001, 'hidden...            0.715521   \n",
      "9   {'activation': 'relu', 'alpha': 0.0001, 'hidde...            0.677565   \n",
      "10  {'activation': 'relu', 'alpha': 0.0001, 'hidde...            0.704652   \n",
      "11  {'activation': 'relu', 'alpha': 0.0001, 'hidde...            0.704681   \n",
      "\n",
      "    mean_test_precision_macro  mean_test_recall_macro  mean_test_f1_macro  \n",
      "0                    0.686139                0.623073            0.625806  \n",
      "1                    0.692081                0.632868            0.638555  \n",
      "2                    0.677152                0.626721            0.632015  \n",
      "3                    0.684631                0.616805            0.618652  \n",
      "4                    0.696304                0.644899            0.652523  \n",
      "5                    0.685683                0.632802            0.638770  \n",
      "6                    0.589821                0.598693            0.575734  \n",
      "7                    0.711540                0.604901            0.596770  \n",
      "8                    0.684852                0.634785            0.641206  \n",
      "9                    0.477907                0.542041            0.478173  \n",
      "10                   0.670165                0.626589            0.628839  \n",
      "11                   0.668856                0.618782            0.622398  \n",
      "MLPClassifier(activation='tanh', hidden_layer_sizes=7, max_iter=600)\n"
     ]
    }
   ],
   "source": [
    "# Obtener resultados del grid search\n",
    "results = pd.DataFrame(grid_search.cv_results_)\n",
    "# Mostrar resultados\n",
    "print(\"Resultados de Grid Search:\")\n",
    "print(results[['params', 'mean_test_accuracy', 'mean_test_precision_macro', 'mean_test_recall_macro', 'mean_test_f1_macro']])\n",
    "#print(results) #para ver todos los atributos obtenidos y entender cómo usarlos\n",
    "\n",
    "# Obtener el mejor modelo (en cuanto a optimización del criterio)\n",
    "best_model = grid_search.best_estimator_\n",
    "print(grid_search.best_estimator_)"
   ]
  },
  {
   "cell_type": "code",
   "execution_count": 13,
   "id": "0af1b7af",
   "metadata": {},
   "outputs": [],
   "source": [
    "# se seleccionan los modelos candidatos, y analiza su robustez a lo largo de cross validation.\n",
    "ac_1 = results[['split0_test_accuracy', 'split1_test_accuracy','split2_test_accuracy', 'split3_test_accuracy']].iloc[4]\n",
    "ac_2 = results[['split0_test_accuracy', 'split1_test_accuracy','split2_test_accuracy', 'split3_test_accuracy']].iloc[5]\n",
    "ac_3 = results[['split0_test_accuracy', 'split1_test_accuracy','split2_test_accuracy', 'split3_test_accuracy']].iloc[8]"
   ]
  },
  {
   "cell_type": "code",
   "execution_count": 14,
   "id": "38b8f764",
   "metadata": {},
   "outputs": [
    {
     "data": {
      "image/png": "[encoded data removed]",
      "text/plain": [
       "<Figure size 640x480 with 1 Axes>"
      ]
     },
     "metadata": {},
     "output_type": "display_data"
    }
   ],
   "source": [
    "# Crear un boxplot para los cuatro valores de accuracy\n",
    "plt.boxplot([ac_1.values,ac_2.values,ac_3.values], labels = ['Red4','Red5','Red8'])\n",
    "plt.title('Boxplots de Accuracy para los 4 Splits')\n",
    "plt.xlabel('Splits de Cross Validation')\n",
    "plt.ylabel('Accuracy')\n",
    "plt.show()"
   ]
  },
  {
   "cell_type": "code",
   "execution_count": 41,
   "id": "0c5b0db4",
   "metadata": {},
   "outputs": [
    {
     "name": "stderr",
     "output_type": "stream",
     "text": [
      "C:\\Users\\user\\anaconda3\\lib\\site-packages\\sklearn\\neural_network\\_multilayer_perceptron.py:1109: DataConversionWarning: A column-vector y was passed when a 1d array was expected. Please change the shape of y to (n_samples, ), for example using ravel().\n",
      "  y = column_or_1d(y, warn=True)\n",
      "C:\\Users\\user\\anaconda3\\lib\\site-packages\\sklearn\\neural_network\\_multilayer_perceptron.py:1109: DataConversionWarning: A column-vector y was passed when a 1d array was expected. Please change the shape of y to (n_samples, ), for example using ravel().\n",
      "  y = column_or_1d(y, warn=True)\n",
      "C:\\Users\\user\\anaconda3\\lib\\site-packages\\sklearn\\neural_network\\_multilayer_perceptron.py:1109: DataConversionWarning: A column-vector y was passed when a 1d array was expected. Please change the shape of y to (n_samples, ), for example using ravel().\n",
      "  y = column_or_1d(y, warn=True)\n"
     ]
    },
    {
     "name": "stdout",
     "output_type": "stream",
     "text": [
      "\n",
      "Área bajo la curva ROC (AUC) para la red 4 en test: 0.69\n"
     ]
    },
    {
     "data": {
      "image/png": "[encoded data removed]",
      "text/plain": [
       "<Figure size 800x600 with 1 Axes>"
      ]
     },
     "metadata": {},
     "output_type": "display_data"
    }
   ],
   "source": [
    "#analizar y reentrenar redes candidatas AUC\n",
    "X = df[['famhist','tobacco','alcohol']] #en X las variables ya están normalizadas y con dummies\n",
    "y = df['chd']\n",
    "y_auc = pd.get_dummies(y,drop_first=True) #para calcular el AUC, y debe ser numérica\n",
    "\n",
    "X_train, X_test, y_train, y_test = train_test_split(X, y_auc, test_size=0.2, random_state=seed)\n",
    "\n",
    "\n",
    "red4 = MLPClassifier(**results.iloc[4].params)\n",
    "red5 = MLPClassifier(**results.iloc[5].params)\n",
    "red8 = MLPClassifier(**results.iloc[8].params)\n",
    "\n",
    "# Ajustamos NOTA: NO se ajusta la muestra de test\n",
    "#red4.fit(X_test, y_test)\n",
    "#red5.fit(X_test, y_test)\n",
    "#red8.fit(X_test, y_test)\n",
    "# Fit the models\n",
    "red4.fit(X_train, y_train)\n",
    "red5.fit(X_train, y_train)\n",
    "red8.fit(X_train, y_train)\n",
    "\n",
    "# Calculamos las predicciones en test, en términos de probabilidad para poder dibujar el AUC\n",
    "y_pred4 = red4.predict_proba(X_test)[:,1]\n",
    "y_pred5 = red5.predict_proba(X_test)[:,1]\n",
    "y_pred8 = red8.predict_proba(X_test)[:,1]\n",
    "\n",
    "fpr, tpr, thresholds = roc_curve(y_test, y_pred4)\n",
    "roc_auc = auc(fpr, tpr)\n",
    "print(f\"\\nÁrea bajo la curva ROC (AUC) para la red 4 en test: {roc_auc:.2f}\")\n",
    "\n",
    "# Graficar la curva ROC\n",
    "plt.figure(figsize=(8, 6))\n",
    "plt.plot(fpr, tpr, color='darkorange', lw=2, label=f'AUC = {roc_auc:.2f}')\n",
    "plt.plot([0, 1], [0, 1], color='navy', lw=2, linestyle='--')\n",
    "plt.xlabel('Tasa de Falsos Positivos (FPR)')\n",
    "plt.ylabel('Tasa de Verdaderos Positivos (TPR)')\n",
    "plt.title('Curva ROC red4')\n",
    "plt.legend(loc=\"lower right\")\n",
    "plt.show()"
   ]
  },
  {
   "cell_type": "code",
   "execution_count": 43,
   "id": "a7d1f74d",
   "metadata": {},
   "outputs": [
    {
     "name": "stderr",
     "output_type": "stream",
     "text": [
      "C:\\Users\\user\\anaconda3\\lib\\site-packages\\sklearn\\neural_network\\_multilayer_perceptron.py:1109: DataConversionWarning: A column-vector y was passed when a 1d array was expected. Please change the shape of y to (n_samples, ), for example using ravel().\n",
      "  y = column_or_1d(y, warn=True)\n"
     ]
    },
    {
     "name": "stdout",
     "output_type": "stream",
     "text": [
      "Matriz de Confusión:\n",
      "[[57  1]\n",
      " [28  7]]\n",
      "\n",
      "Medidas de Desempeño:\n",
      "              precision    recall  f1-score   support\n",
      "\n",
      "           0       0.67      0.98      0.80        58\n",
      "           1       0.88      0.20      0.33        35\n",
      "\n",
      "    accuracy                           0.69        93\n",
      "   macro avg       0.77      0.59      0.56        93\n",
      "weighted avg       0.75      0.69      0.62        93\n"
     ]
    }
   ],
   "source": [
    "# medidas de bondad de ajuste en test: ojo, necesitamos la clasificación continua\n",
    "X = df[['famhist','tobacco','alcohol']] #en X las variables ya están normalizadas y con dummies\n",
    "y = df['chd']\n",
    "X_train, X_test, y_train_b, y_test_b = train_test_split(X, y, test_size=0.2, random_state=seed)\n",
    "\n",
    "# Definimos el modelo\n",
    "red4 = MLPClassifier(**results.iloc[4].params)\n",
    "\n",
    "#Ajustamos\n",
    "red4.fit(X_test, y_test)\n",
    "\n",
    "\n",
    "#calculamos las predicciones en test, en términos de probabilidad para poder dibujar el AUC\n",
    "y_pred4 = red4.predict(X_test)\n",
    "conf_matrix = confusion_matrix(y_test, y_pred4)\n",
    "print(\"Matriz de Confusión:\")\n",
    "print(conf_matrix)\n",
    "print(\"\\nMedidas de Desempeño:\")\n",
    "print(classification_report(y_test, y_pred4))"
   ]
  }
 ],
 "metadata": {
  "kernelspec": {
   "display_name": "Python 3 (ipykernel)",
   "language": "python",
   "name": "python3"
  },
  "language_info": {
   "codemirror_mode": {
    "name": "ipython",
    "version": 3
   },
   "file_extension": ".py",
   "mimetype": "text/x-python",
   "name": "python",
   "nbconvert_exporter": "python",
   "pygments_lexer": "ipython3",
   "version": "3.9.13"
  }
 },
 "nbformat": 4,
 "nbformat_minor": 5
}
