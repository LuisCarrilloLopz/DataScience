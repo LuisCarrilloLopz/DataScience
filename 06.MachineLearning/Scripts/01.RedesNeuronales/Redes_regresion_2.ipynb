{
 "cells": [
  {
   "cell_type": "code",
   "execution_count": 1,
   "id": "a37c26a0",
   "metadata": {},
   "outputs": [
    {
     "name": "stderr",
     "output_type": "stream",
     "text": [
      "C:\\Users\\user\\anaconda3\\lib\\site-packages\\scipy\\__init__.py:155: UserWarning: A NumPy version >=1.18.5 and <1.25.0 is required for this version of SciPy (detected version 1.26.2\n",
      "  warnings.warn(f\"A NumPy version >={np_minversion} and <{np_maxversion}\"\n"
     ]
    }
   ],
   "source": [
    "#importar las librerías necesarias\n",
    "import numpy as np\n",
    "import pandas as pd\n",
    "import matplotlib.pyplot as plt\n",
    "from sklearn.tree import plot_tree\n",
    "import seaborn as sns\n",
    "import plotly.graph_objects as go\n",
    "from sklearn.compose import ColumnTransformer\n",
    "from sklearn.preprocessing import MinMaxScaler, StandardScaler, Normalizer, Binarizer, RobustScaler, label_binarize\n",
    "from sklearn.preprocessing import OneHotEncoder, LabelEncoder, PowerTransformer\n",
    "from sklearn.neural_network import MLPClassifier, MLPRegressor\n",
    "from sklearn.tree import DecisionTreeClassifier, export_text, DecisionTreeRegressor\n",
    "from sklearn.model_selection import train_test_split, GridSearchCV\n",
    "from sklearn.metrics import confusion_matrix, classification_report, accuracy_score, precision_score, recall_score, f1_score, roc_auc_score, roc_curve, auc\n",
    "from sklearn.metrics import make_scorer, mean_absolute_error, mean_squared_error, r2_score\n",
    "from sklearn.model_selection import cross_val_score"
   ]
  },
  {
   "cell_type": "code",
   "execution_count": 2,
   "id": "fccd7dd0",
   "metadata": {},
   "outputs": [
    {
     "name": "stdout",
     "output_type": "stream",
     "text": [
      "\n",
      " Instancias: 1030; Variables: 9\n"
     ]
    }
   ],
   "source": [
    "seed=12345\n",
    "file_path = 'C:/Users/user/OneDrive - Universidad Complutense de Madrid (UCM)/Documentos/Titulo Propio/Machine Learning/Redes Neuronales/Python/compress.csv' \n",
    "df = pd.read_csv(file_path)\n",
    "#print(df.head())\n",
    "#La variable de interés es strength, continua\n",
    "print(f'\\n Instancias: {df.shape[0]}; Variables: {df.shape[1]}')"
   ]
  },
  {
   "cell_type": "code",
   "execution_count": 3,
   "id": "c8a0ca3e",
   "metadata": {},
   "outputs": [],
   "source": [
    "#renombramos variables para usarlas más cómodamente\n",
    "nuevos_nombres = ['cement', 'blast','ash','water','plasticizer','coarse','fine','day','strength']\n",
    "\n",
    "# Asignar nuevos nombres a las columnas\n",
    "df.columns = nuevos_nombres"
   ]
  },
  {
   "cell_type": "code",
   "execution_count": 4,
   "id": "e0fadf64",
   "metadata": {},
   "outputs": [
    {
     "data": {
      "text/plain": [
       "cement         0\n",
       "blast          0\n",
       "ash            0\n",
       "water          0\n",
       "plasticizer    0\n",
       "coarse         0\n",
       "fine           0\n",
       "day            0\n",
       "strength       0\n",
       "dtype: int64"
      ]
     },
     "execution_count": 4,
     "metadata": {},
     "output_type": "execute_result"
    }
   ],
   "source": [
    "# hay valores perdidos?\n",
    "df.isna().sum()"
   ]
  },
  {
   "cell_type": "markdown",
   "id": "c994e857",
   "metadata": {},
   "source": [
    "Preparamos la base de datos para la aplicación de redes neuronales:\n",
    "\n",
    "    - Estandarizar/normalizar variables continuas\n",
    "    - Convertir a dummies las variables categóricas\n",
    "    - Evitar missing"
   ]
  },
  {
   "cell_type": "code",
   "execution_count": 5,
   "id": "6518a0c7",
   "metadata": {},
   "outputs": [],
   "source": [
    "# organiza las variables según su naturaleza\n",
    "#hacer una lista con las variables input numericas\n",
    "num_cols = ['cement', 'blast','ash','water','plasticizer','coarse','fine','day','strength']\n",
    "#hacer una lista con las variables input categóricas: no hay"
   ]
  },
  {
   "cell_type": "code",
   "execution_count": 6,
   "id": "bea939c8",
   "metadata": {},
   "outputs": [],
   "source": [
    "#Normalizar variables numericas\n",
    "#Si se quisieran estandarizar, scaler=StandardScaler()\n",
    "scaler = MinMaxScaler() #selecciona el transformador\n",
    "X = df[num_cols] #selecciona las variables numéricas que se quieren transformar y las guarda en un nuevo dataframe\n",
    "X_scale = pd.DataFrame(scaler.fit_transform(X)) #guarda el resultado de la transformación de las variables de X en X_scale\n",
    "X_scale.columns = X.columns #para simplificar los nombres, asigna a las columnas de X_scale los nombres de las variables de X_num\n",
    "df[num_cols] = X_scale\n",
    "#OJO: incluye el target"
   ]
  },
  {
   "cell_type": "code",
   "execution_count": 7,
   "id": "b7136d93",
   "metadata": {
    "scrolled": true
   },
   "outputs": [
    {
     "data": {
      "text/plain": [
       "GridSearchCV(cv=4, estimator=MLPRegressor(),\n",
       "             param_grid={'activation': ['tanh', 'relu'],\n",
       "                         'alpha': [0.001, 0.0001],\n",
       "                         'hidden_layer_sizes': [5, 7, 9], 'max_iter': [500]},\n",
       "             refit='neg_mean_squared_error',\n",
       "             scoring=['neg_mean_squared_error', 'neg_mean_absolute_error',\n",
       "                      'r2'])"
      ]
     },
     "execution_count": 7,
     "metadata": {},
     "output_type": "execute_result"
    }
   ],
   "source": [
    "# Tuneo y evaluación predictiva del modelo para variable dependiente continua\n",
    "# El grupo de variables predictoras se define y se fija\n",
    "X = df[['cement','blast','water']] #en X las variables ya están normalizadas y con dummies\n",
    "y = df['strength']\n",
    "X_train, X_test, y_train, y_test = train_test_split(X, y, test_size=0.2, random_state=seed)\n",
    "red = MLPRegressor()\n",
    "#definimos los parámetros que queremos tunear\n",
    "params = {\n",
    "    'max_iter': [500],\n",
    "    'hidden_layer_sizes': [5,7,9],\n",
    "    'activation': ['tanh','relu'],\n",
    "    'alpha': [0.001,0.0001]\n",
    "}\n",
    "scoring_metrics = ['neg_mean_squared_error', 'neg_mean_absolute_error', 'r2']\n",
    "# cv = crossvalidation con n folds con todas las combinaciones de parámetros\n",
    "grid_search = GridSearchCV(estimator=red, \n",
    "                           param_grid=params, \n",
    "                           cv=4, scoring = scoring_metrics, refit='neg_mean_squared_error')\n",
    "\n",
    "#ajusta en entrenamiento con todas las combinaciones\n",
    "grid_search.fit(X_train, y_train)\n"
   ]
  },
  {
   "cell_type": "code",
   "execution_count": 9,
   "id": "9ad5d10c",
   "metadata": {},
   "outputs": [
    {
     "name": "stdout",
     "output_type": "stream",
     "text": [
      "Resultados de Grid Search:\n",
      "                                               params  \\\n",
      "0   {'activation': 'tanh', 'alpha': 0.001, 'hidden...   \n",
      "1   {'activation': 'tanh', 'alpha': 0.001, 'hidden...   \n",
      "2   {'activation': 'tanh', 'alpha': 0.001, 'hidden...   \n",
      "3   {'activation': 'tanh', 'alpha': 0.0001, 'hidde...   \n",
      "4   {'activation': 'tanh', 'alpha': 0.0001, 'hidde...   \n",
      "5   {'activation': 'tanh', 'alpha': 0.0001, 'hidde...   \n",
      "6   {'activation': 'relu', 'alpha': 0.001, 'hidden...   \n",
      "7   {'activation': 'relu', 'alpha': 0.001, 'hidden...   \n",
      "8   {'activation': 'relu', 'alpha': 0.001, 'hidden...   \n",
      "9   {'activation': 'relu', 'alpha': 0.0001, 'hidde...   \n",
      "10  {'activation': 'relu', 'alpha': 0.0001, 'hidde...   \n",
      "11  {'activation': 'relu', 'alpha': 0.0001, 'hidde...   \n",
      "\n",
      "    mean_test_neg_mean_absolute_error  mean_test_r2  \n",
      "0                           -0.163884      0.023758  \n",
      "1                           -0.144286      0.252871  \n",
      "2                           -0.153348      0.135804  \n",
      "3                           -0.138314      0.300698  \n",
      "4                           -0.140035      0.258918  \n",
      "5                           -0.144898      0.253871  \n",
      "6                           -0.152784      0.121249  \n",
      "7                           -0.147207      0.215483  \n",
      "8                           -0.166459     -0.016539  \n",
      "9                           -0.160479     -0.039731  \n",
      "10                          -0.145866      0.232198  \n",
      "11                          -0.143435      0.247615  \n",
      "MLPRegressor(activation='tanh', hidden_layer_sizes=5, max_iter=500)\n"
     ]
    }
   ],
   "source": [
    "# Obtener resultados del grid search\n",
    "results = pd.DataFrame(grid_search.cv_results_)\n",
    "# Mostrar resultados\n",
    "print(\"Resultados de Grid Search:\")\n",
    "print(results[['params','mean_test_neg_mean_absolute_error','mean_test_r2']])\n",
    "#print(results) #para ver todos los atributos obtenidos y entender cómo usarlos\n",
    "\n",
    "# Obtener el mejor modelo (en cuanto a optimización del criterio)\n",
    "best_model = grid_search.best_estimator_\n",
    "print(grid_search.best_estimator_)"
   ]
  },
  {
   "cell_type": "markdown",
   "id": "79f276d2",
   "metadata": {},
   "source": [
    "- params: Una lista de diccionarios que contiene los valores de los hiperparámetros para cada combinación evaluada.\n",
    "- mean_test_score: Una matriz que contiene las puntuaciones promedio de prueba para cada combinación de hiperparámetros.\n",
    "- std_test_score: Una matriz que contiene las desviaciones estándar de las puntuaciones de prueba para cada combinación de hiperparámetros.\n",
    "\n",
    "Otros detalles como el tiempo de ajuste ('mean_fit_time'), tiempo de puntuación ('mean_score_time'), etc."
   ]
  },
  {
   "cell_type": "markdown",
   "id": "8e521392",
   "metadata": {},
   "source": [
    "- neg_mean_squared_error: Error cuadrático medio negativo. Se utiliza comúnmente en problemas de regresión.\n",
    "- neg_mean_absolute_error: Error absoluto medio negativo.\n",
    "- r2: R^2 (Coeficiente de Determinación) mide la proporción de la variabilidad en la variable dependiente que es predecible a partir de las variables independientes.\n",
    "\n",
    "Algunas métricas como el error cuadrático medio (neg_mean_squared_error) son más efectivas cuando son más bajas, mientras que otras como el coeficiente de determinación (r2) son más efectivas cuando son más altas. Al utilizar el parámetro scoring, ten en cuenta el sentido de la métrica y si deseas maximizarla o minimizarla al especificar greater_is_better"
   ]
  },
  {
   "cell_type": "code",
   "execution_count": 29,
   "id": "c2b2573a",
   "metadata": {},
   "outputs": [
    {
     "name": "stdout",
     "output_type": "stream",
     "text": [
      "Parametrización 4:\n",
      "{'activation': 'tanh', 'alpha': 0.0001, 'hidden_layer_sizes': 7, 'max_iter': 500}\n",
      "Parametrización 8:\n",
      "{'activation': 'relu', 'alpha': 0.001, 'hidden_layer_sizes': 9, 'max_iter': 500}\n",
      "Parametrización 10:\n",
      "{'activation': 'relu', 'alpha': 0.0001, 'hidden_layer_sizes': 7, 'max_iter': 500}\n"
     ]
    }
   ],
   "source": [
    "# Escogemos la parametrizaciones mejores candidatas: 4, 8, 10\n",
    "print(\"Parametrización 4:\")\n",
    "print(results.iloc[4].params)\n",
    "print(\"Parametrización 8:\")\n",
    "print(results.iloc[8].params)\n",
    "print(\"Parametrización 10:\")\n",
    "print(results.iloc[10].params)"
   ]
  },
  {
   "cell_type": "code",
   "execution_count": null,
   "id": "350ac83f",
   "metadata": {},
   "outputs": [],
   "source": []
  },
  {
   "cell_type": "code",
   "execution_count": 34,
   "id": "cc342306",
   "metadata": {},
   "outputs": [],
   "source": [
    "# se selecciona el modelo candidato, y se procede a analizar su robustez a lo largo de cross validation.\n",
    "r2_1 = results[['split0_test_r2', 'split1_test_r2','split2_test_r2', 'split3_test_r2']].iloc[4]\n",
    "r2_2 = results[['split0_test_r2', 'split1_test_r2','split2_test_r2', 'split3_test_r2']].iloc[8]\n",
    "r2_3 =results[['split0_test_r2', 'split1_test_r2','split2_test_r2', 'split3_test_r2']].iloc[10]\n",
    "\n",
    "# se selecciona el modelo candidato, y se procede a analizar su robustez a lo largo de cross validation.\n",
    "mse_1 = results[['split0_test_neg_mean_squared_error', 'split1_test_neg_mean_squared_error','split2_test_neg_mean_squared_error', 'split3_test_r2']].iloc[4]\n",
    "mse_2 = results[['split0_test_neg_mean_squared_error', 'split1_test_neg_mean_squared_error','split2_test_neg_mean_squared_error', 'split3_test_r2']].iloc[8]\n",
    "mse_3 = results[['split0_test_neg_mean_squared_error', 'split1_test_neg_mean_squared_error','split2_test_neg_mean_squared_error', 'split3_test_r2']].iloc[10]"
   ]
  },
  {
   "cell_type": "code",
   "execution_count": 35,
   "id": "d7abf921",
   "metadata": {},
   "outputs": [
    {
     "data": {
      "image/png": "[encoded data removed]",
      "text/plain": [
       "<Figure size 640x480 with 1 Axes>"
      ]
     },
     "metadata": {},
     "output_type": "display_data"
    },
    {
     "data": {
      "image/png": "[encoded data removed]",
      "text/plain": [
       "<Figure size 640x480 with 1 Axes>"
      ]
     },
     "metadata": {},
     "output_type": "display_data"
    }
   ],
   "source": [
    "# Crear un boxplot para los cuatro valores de r2\n",
    "plt.boxplot([r2_1.values,r2_2.values,r2_3.values], labels = ['red4','red8','red10'])\n",
    "plt.title('Boxplots de r2 para los 4 Splits')\n",
    "plt.xlabel('Splits de Cross Validation')\n",
    "plt.ylabel('r2')\n",
    "plt.show()\n",
    "\n",
    "# Crear un boxplot para los cuatro valores de MSE\n",
    "plt.boxplot([mse_1.values,mse_2.values,mse_3.values], labels = ['red4','red8','red10'])\n",
    "plt.title('Boxplots de MSE para los 4 Splits')\n",
    "plt.xlabel('Splits de Cross Validation')\n",
    "plt.ylabel('MSE')\n",
    "plt.show()\n",
    "\n",
    "\n",
    "# Nótese en la solución que boxplots con gran amplitud no son deseables, ya que se caracterizan por poca robustez de la solución"
   ]
  },
  {
   "cell_type": "code",
   "execution_count": 41,
   "id": "524ad458",
   "metadata": {},
   "outputs": [
    {
     "name": "stdout",
     "output_type": "stream",
     "text": [
      "MAE (Error Absoluto Medio): 0.17\n",
      "MSE (Error Cuadrático Medio): 0.05\n",
      "RMSE (Raíz del Error Cuadrático Medio): 0.21\n",
      "R²: -0.08\n"
     ]
    }
   ],
   "source": [
    "# Escogemos la red 8 como modelo candidato\n",
    "red8 = MLPRegressor(**results.iloc[8].params)\n",
    "# Ajustar el mejor modelo con todo el conjunto de entrenamiento\n",
    "red8.fit(X_train, y_train)\n",
    "\n",
    "# Predicciones en conjunto de entrenamiento y prueba\n",
    "y_train_pred = red8.predict(X_train)\n",
    "y_test_pred = red8.predict(X_test)\n",
    "\n",
    "errores = y_train - y_pred_train\n",
    "# Calcular diferentes medidas de bondad de ajuste\n",
    "mae = mean_absolute_error(y_train, y_pred_train)\n",
    "mse = mean_squared_error(y_train, y_pred_train)\n",
    "rmse = np.sqrt(mse)\n",
    "r2 = r2_score(y_train, y_pred_train)\n",
    "\n",
    "# Imprimir las métricas\n",
    "print(f'MAE (Error Absoluto Medio): {mae:.2f}')\n",
    "print(f'MSE (Error Cuadrático Medio): {mse:.2f}')\n",
    "print(f'RMSE (Raíz del Error Cuadrático Medio): {rmse:.2f}')\n",
    "print(f'R²: {r2:.2f}')"
   ]
  }
 ],
 "metadata": {
  "kernelspec": {
   "display_name": "Python 3 (ipykernel)",
   "language": "python",
   "name": "python3"
  },
  "language_info": {
   "codemirror_mode": {
    "name": "ipython",
    "version": 3
   },
   "file_extension": ".py",
   "mimetype": "text/x-python",
   "name": "python",
   "nbconvert_exporter": "python",
   "pygments_lexer": "ipython3",
   "version": "3.9.13"
  }
 },
 "nbformat": 4,
 "nbformat_minor": 5
}
